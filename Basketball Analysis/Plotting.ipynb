{
 "cells": [
  {
   "cell_type": "code",
   "execution_count": null,
   "id": "6499b88e-7d2f-4915-b161-2c476486e172",
   "metadata": {},
   "outputs": [],
   "source": [
    "import matplotlib.pyplot as plt\n",
    "import seaborn as sns\n",
    "import pandas as pd\n",
    "import datetime"
   ]
  },
  {
   "cell_type": "code",
   "execution_count": null,
   "id": "8d1fd1bf-93d0-4656-b9af-73ba32042f58",
   "metadata": {},
   "outputs": [],
   "source": [
    "df = pd.read_csv('Spreadsheets/box_score_all.csv')"
   ]
  },
  {
   "cell_type": "code",
   "execution_count": null,
   "id": "aedad116-4f5a-42e2-a699-2d773f38086c",
   "metadata": {
    "tags": []
   },
   "outputs": [],
   "source": [
    "plt.plot('Date', 'threePointersPercentage', data=df)"
   ]
  },
  {
   "cell_type": "code",
   "execution_count": null,
   "id": "dd0a0429-6446-49d9-9f35-8904b349705a",
   "metadata": {
    "tags": []
   },
   "outputs": [],
   "source": [
    "sns.lineplot(x='Date', y='threePointersPercentage', data=df)"
   ]
  },
  {
   "cell_type": "markdown",
   "id": "53db8db6-a900-4437-8aef-15e6fc29f5b1",
   "metadata": {},
   "source": [
    "### Reformatting Datetime"
   ]
  },
  {
   "cell_type": "code",
   "execution_count": null,
   "id": "7e58d6eb-682a-43f7-8855-bca13e1b2b51",
   "metadata": {
    "tags": []
   },
   "outputs": [],
   "source": [
    "dates = df[\"Date\"].str.slice(stop=10)"
   ]
  },
  {
   "cell_type": "code",
   "execution_count": null,
   "id": "df41ed41-1777-4629-88ae-32bc5195e445",
   "metadata": {},
   "outputs": [],
   "source": [
    "dates = pd.to_datetime(dates, format='%Y-%m-%d')"
   ]
  },
  {
   "cell_type": "code",
   "execution_count": null,
   "id": "0e04439e-a0fd-4152-a15b-7f99598fc2d7",
   "metadata": {
    "tags": []
   },
   "outputs": [],
   "source": [
    "dates"
   ]
  },
  {
   "cell_type": "code",
   "execution_count": null,
   "id": "03664fe8-74f4-4021-be54-6476d7ea5837",
   "metadata": {
    "tags": []
   },
   "outputs": [],
   "source": [
    "df['DatesF'] = dates"
   ]
  },
  {
   "cell_type": "markdown",
   "id": "6dbe3f88-f59b-495a-ac59-6e19b05f2c1e",
   "metadata": {},
   "source": [
    "### Multilevel Dataframe"
   ]
  },
  {
   "cell_type": "code",
   "execution_count": null,
   "id": "d2750d7f-c965-4263-bd3b-02c41ed80689",
   "metadata": {},
   "outputs": [],
   "source": [
    "multi_df = df.set_index(['DatesF', 'Home/Away'])"
   ]
  },
  {
   "cell_type": "code",
   "execution_count": null,
   "id": "7c28a9f5-7d9e-48a4-8ca5-fc699c534d35",
   "metadata": {
    "tags": []
   },
   "outputs": [],
   "source": [
    "multi_df"
   ]
  },
  {
   "cell_type": "code",
   "execution_count": null,
   "id": "55c8d373-2930-49fc-a05a-557e708c18d3",
   "metadata": {
    "tags": []
   },
   "outputs": [],
   "source": [
    "multi_df.loc['2022-10-18']['threePointersPercentage']"
   ]
  },
  {
   "cell_type": "code",
   "execution_count": null,
   "id": "ce87ffbd-bbe6-428a-ac67-f20ce1de7320",
   "metadata": {},
   "outputs": [],
   "source": [
    "#%% print DataFrame.mean() for average of 3pt%\n",
    "print(multi_df.loc['2022-10-18']['threePointersPercentage'].mean())"
   ]
  },
  {
   "cell_type": "code",
   "execution_count": null,
   "id": "f9bd2116-4bc9-439f-8360-8b4dd2326fdf",
   "metadata": {},
   "outputs": [],
   "source": [
    "#%% DataFrame.mean() for average of 3pt%\n",
    "first_day_3pt_averages = multi_df.loc['2022-10-18']['threePointersPercentage'].mean()"
   ]
  },
  {
   "cell_type": "code",
   "execution_count": null,
   "id": "85d6f874-3c9f-42a5-a99e-ba9f1b8dfab8",
   "metadata": {},
   "outputs": [],
   "source": [
    "#%% DataFrame.sum() of 3ptm\n",
    "first_day_3pt_made = multi_df.loc['2022-10-18']['threePointersMade'].sum()"
   ]
  },
  {
   "cell_type": "code",
   "execution_count": null,
   "id": "0fd4a5d6-c267-4848-a84f-5a111af82191",
   "metadata": {},
   "outputs": [],
   "source": [
    "#%% DataFrame.sum() of 3pta\n",
    "first_day_3pt_attempted = multi_df.loc['2022-10-18']['threePointersAttempted'].sum()"
   ]
  },
  {
   "cell_type": "code",
   "execution_count": null,
   "id": "49651876-4e8e-4f53-a527-0ff97f9aae03",
   "metadata": {},
   "outputs": [],
   "source": [
    "#%% Calculated averages of sums\n",
    "first_days_3pt_averages = first_day_3pt_made/first_day_3pt_attempted"
   ]
  },
  {
   "cell_type": "code",
   "execution_count": null,
   "id": "b23f1408-6007-4c13-9e5c-d1903d143b19",
   "metadata": {},
   "outputs": [],
   "source": [
    "#%% Printing calculated averages of sums\n",
    "print(first_days_3pt_averages)"
   ]
  },
  {
   "cell_type": "code",
   "execution_count": null,
   "id": "a564cba0-0cbe-4e2e-8669-8621889877bc",
   "metadata": {},
   "outputs": [],
   "source": [
    "#%% Loop collecting daily 3PT% averages\n",
    "# instantiate list to hold daily 3pt percentage averages\n",
    "daily_3PtP = []\n",
    "# loop iterates through each unique date value in dates series\n",
    "# and \n",
    "for d in dates.unique():\n",
    "    print(d)\n",
    "    daily_3PtM = multi_df.loc[d]['threePointersMade'].sum()\n",
    "    daily_3PtA = multi_df.loc[d]['threePointersAttempted'].sum()\n",
    "    daily_3PtP.append(daily_3PtM/daily_3PtA)"
   ]
  },
  {
   "cell_type": "code",
   "execution_count": null,
   "id": "24588bb5-5f30-40c2-8804-f94ddff7041b",
   "metadata": {},
   "outputs": [],
   "source": [
    "#%%\n",
    "sns.lineplot(x=dates.unique(), y=daily_3PtP)"
   ]
  }
 ],
 "metadata": {
  "kernelspec": {
   "display_name": "Python 3 (ipykernel)",
   "language": "python",
   "name": "python3"
  },
  "language_info": {
   "codemirror_mode": {
    "name": "ipython",
    "version": 3
   },
   "file_extension": ".py",
   "mimetype": "text/x-python",
   "name": "python",
   "nbconvert_exporter": "python",
   "pygments_lexer": "ipython3",
   "version": "3.10.8"
  }
 },
 "nbformat": 4,
 "nbformat_minor": 5
}
