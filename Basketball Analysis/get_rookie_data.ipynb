{
 "cells": [
  {
   "cell_type": "code",
   "execution_count": 1,
   "id": "f0f6b993-1340-4365-9529-19b1cd9272b4",
   "metadata": {},
   "outputs": [],
   "source": [
    "#importing libraries\n",
    "import requests\n",
    "from bs4 import BeautifulSoup\n",
    "import pandas as pd"
   ]
  },
  {
   "cell_type": "code",
   "execution_count": 2,
   "id": "5356b6c2-4082-453a-8f7b-c342d64c51e3",
   "metadata": {},
   "outputs": [],
   "source": [
    "#the years we wish to parse for\n",
    "years = list(range(1990, 2017))\n",
    "\n",
    "#list to house dataframes\n",
    "dfs = []\n",
    "\n",
    "#list to house collection of player IDs\n",
    "player_ids = []\n",
    "\n",
    "#unnecessary table headers to be removed\n",
    "classes = [\"over_header\",\"over_header thead\", \"thead\"]"
   ]
  },
  {
   "cell_type": "code",
   "execution_count": 4,
   "id": "f9ea725c-b2be-4bb0-b74f-70eb880e2a79",
   "metadata": {},
   "outputs": [],
   "source": [
    "#   \"main\" for loop to iterate through HTML pages\n",
    "for year in years:\n",
    "### Downloading HTML block ### \n",
    "#   #variables serve to gather running site pages\n",
    "#   url_base = \"https://www.basketball-reference.com/leagues/NBA_{}_rookies-season-stats.html\"\n",
    "#   url = url_base.format(year)\n",
    "#   data = requests.get(url)\n",
    "#   \n",
    "#   #page is saved as an html and placed in Rookies folder\n",
    "#   with open(\"Rookies/{}.html\".format(year), \"w+\") as f:\n",
    "#       f.write(data.text)\n",
    "    \n",
    "#   open and read iterated year's HTML page    \n",
    "    with open(\"Pages/{}.html\".format(year), encoding = \"utf-8\") as f:\n",
    "        page = f.read()\n",
    "        \n",
    "#   running page through Beautiful Soup creates BeautifulSoup object\n",
    "    soup = BeautifulSoup(page, \"html.parser\")\n",
    "    \n",
    "#   for loop cleans up unnecessary table headers from reappearing in rows\n",
    "    for i in classes:\n",
    "        for tr in soup.find_all(\"tr\", {\"class\":i}):\n",
    "            tr.decompose()\n",
    "    \n",
    "### Scraping Block ###\n",
    "#   identifies, scrapes, and loads rookie table into one dataframe\n",
    "    rookie_table = soup.find(id=\"rookies\")\n",
    "    rookies = pd.read_html(str(rookie_table))[0]\n",
    "\n",
    "#   \"Year\" column created and cells filled with corresponding interated rookie class year    \n",
    "    rookies[\"Year\"] = year\n",
    "\n",
    "#   Basketball-Reference player ID extracted and added to global list variable \"player_ids\"\n",
    "    for tr in soup.select(\"tr.full_table\"):\n",
    "        for td in tr.select(\"td\")[0:1]:\n",
    "            player_ids.append(td['data-append-csv'])\n",
    "\n",
    "#   iterated year's dataframe added to global list variable \"dfs\"     \n",
    "    dfs.append(rookies)\n",
    "\n",
    "#   close file\n",
    "    f.close()\n",
    "    \n",
    "#end for loop through years"
   ]
  },
  {
   "cell_type": "code",
   "execution_count": 5,
   "id": "0ffcd3e9-5f55-4f56-9407-74347a562692",
   "metadata": {},
   "outputs": [
    {
     "ename": "AttributeError",
     "evalue": "'list' object has no attribute 'dtype'",
     "output_type": "error",
     "traceback": [
      "\u001b[1;31m---------------------------------------------------------------------------\u001b[0m",
      "\u001b[1;31mAttributeError\u001b[0m                            Traceback (most recent call last)",
      "Cell \u001b[1;32mIn[5], line 1\u001b[0m\n\u001b[1;32m----> 1\u001b[0m \u001b[43mplayer_ids\u001b[49m\u001b[38;5;241;43m.\u001b[39;49m\u001b[43mdtype\u001b[49m\n",
      "\u001b[1;31mAttributeError\u001b[0m: 'list' object has no attribute 'dtype'"
     ]
    }
   ],
   "source": [
    "player_ids.dtype"
   ]
  },
  {
   "cell_type": "code",
   "execution_count": 6,
   "id": "32df1c43-10fb-403d-81b4-c47955476043",
   "metadata": {},
   "outputs": [],
   "source": [
    "#turns list of dataframes into single dataframe\n",
    "all_rookies = pd.concat(dfs)"
   ]
  },
  {
   "cell_type": "code",
   "execution_count": null,
   "id": "5a898cc6-09f8-4e03-98db-efd6012ed55d",
   "metadata": {},
   "outputs": [],
   "source": [
    "#drop unncessary column 'Rk' from dataframe\n",
    "all_rookies = all_rookies.drop(columns='Rk')"
   ]
  },
  {
   "cell_type": "code",
   "execution_count": 7,
   "id": "c2c9a2da-c491-4212-95ad-2a70837cca5a",
   "metadata": {},
   "outputs": [],
   "source": [
    "#create column in dataframe, fill with Basketball-Reference player id list\n",
    "all_rookies[\"BR ID\"] = player_ids"
   ]
  },
  {
   "cell_type": "code",
   "execution_count": 10,
   "id": "796fd397-4e0d-4434-bdfe-71ba035815b5",
   "metadata": {},
   "outputs": [
    {
     "data": {
      "text/plain": [
       "Rk          int64\n",
       "Player     object\n",
       "Debut      object\n",
       "Age         int64\n",
       "Yrs         int64\n",
       "G           int64\n",
       "MP          int64\n",
       "FG          int64\n",
       "FGA         int64\n",
       "3P          int64\n",
       "3PA         int64\n",
       "FT          int64\n",
       "FTA         int64\n",
       "ORB         int64\n",
       "TRB         int64\n",
       "AST         int64\n",
       "STL         int64\n",
       "BLK         int64\n",
       "TOV         int64\n",
       "PF          int64\n",
       "PTS         int64\n",
       "FG%       float64\n",
       "3P%       float64\n",
       "FT%       float64\n",
       "MP.1      float64\n",
       "PTS.1     float64\n",
       "TRB.1     float64\n",
       "AST.1     float64\n",
       "Year        int64\n",
       "BR ID      object\n",
       "dtype: object"
      ]
     },
     "execution_count": 10,
     "metadata": {},
     "output_type": "execute_result"
    }
   ],
   "source": [
    "all_rookies.dtypes"
   ]
  },
  {
   "cell_type": "code",
   "execution_count": null,
   "id": "a2ad17db-1792-4938-918a-72a12afae559",
   "metadata": {},
   "outputs": [],
   "source": [
    "#dataframe archived as local CSV sans index\n",
    "all_rookies.to_csv(\"Spreadsheets/NBA_Rookies_90-16.csv\", index=False)"
   ]
  }
 ],
 "metadata": {
  "kernelspec": {
   "display_name": "Python 3 (ipykernel)",
   "language": "python",
   "name": "python3"
  },
  "language_info": {
   "codemirror_mode": {
    "name": "ipython",
    "version": 3
   },
   "file_extension": ".py",
   "mimetype": "text/x-python",
   "name": "python",
   "nbconvert_exporter": "python",
   "pygments_lexer": "ipython3",
   "version": "3.10.8"
  }
 },
 "nbformat": 4,
 "nbformat_minor": 5
}
