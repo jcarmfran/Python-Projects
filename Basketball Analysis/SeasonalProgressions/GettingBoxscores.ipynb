{
 "cells": [
  {
   "cell_type": "markdown",
   "id": "5b8bfacf-883a-453c-88d1-d191a11f38ba",
   "metadata": {},
   "source": [
    "## Getting boxscore using nba_api"
   ]
  },
  {
   "cell_type": "markdown",
   "id": "757eb991-f34b-47e6-bd73-75fdc7628166",
   "metadata": {
    "tags": []
   },
   "source": [
    "## Goal:\n",
    "Collect the box scores of every NBA regular game matchup in the 2022-23 season\n",
    "\n",
    "Steps:\n",
    "1. Define functions to properly call nba_api for boxscore data\n",
    "2. Load boxscores into dataframes\n",
    "3. Add/clean data\n",
    "4. Archive data as local CSV"
   ]
  },
  {
   "cell_type": "code",
   "execution_count": null,
   "id": "00d71550-897b-44bd-b73b-7f85f2794f2c",
   "metadata": {},
   "outputs": [],
   "source": [
    "from nba_api.live.nba.endpoints import boxscore\n",
    "import pandas as pd\n",
    "import time"
   ]
  },
  {
   "cell_type": "markdown",
   "id": "473589be-f666-4868-8de7-1c53e462ad15",
   "metadata": {
    "tags": []
   },
   "source": [
    "## Functions"
   ]
  },
  {
   "cell_type": "markdown",
   "id": "cdc42b01-2e03-43a4-837f-6beb3948b28a",
   "metadata": {},
   "source": [
    "### form_gameIDs"
   ]
  },
  {
   "cell_type": "code",
   "execution_count": null,
   "id": "9cacc6f1-56ef-44c7-8663-07e5c0cf0b70",
   "metadata": {},
   "outputs": [],
   "source": [
    "# function returns list of regular game IDs for given season\n",
    "def form_gameIDs(season):\n",
    "    #list to house game IDs\n",
    "    game_IDs_list = []\n",
    "    reg = '002'\n",
    "    last_two_digits = str(season)[-2:]\n",
    "    gameID_base = reg + last_two_digits\n",
    "    for i in range(1, 1231):\n",
    "        gameID = gameID_base + str(i).zfill(5)\n",
    "        game_IDs_list.append(gameID)\n",
    "    return game_IDs_list"
   ]
  },
  {
   "cell_type": "markdown",
   "id": "5c8ae4e6-1a6e-4358-8966-642b2f5b24c3",
   "metadata": {},
   "source": [
    "### get_boxscore_dates"
   ]
  },
  {
   "cell_type": "code",
   "execution_count": null,
   "id": "dfc8f177-c80c-4083-a724-1c340427d822",
   "metadata": {},
   "outputs": [],
   "source": [
    "# function returns list of game dates for a (regular) season\n",
    "def get_boxscore_dates(gameIDs_list):\n",
    "    dates_list = []\n",
    "    for i in gameIDs_list:\n",
    "        match = boxscore.BoxScore(i)\n",
    "        dates_list.append(match.get_dict()['game']['gameEt'])\n",
    "    return dates_list"
   ]
  },
  {
   "cell_type": "markdown",
   "id": "f89aae39-1cb3-46b2-9d7d-bf8bdf9b32d9",
   "metadata": {},
   "source": [
    "### get_boxscores"
   ]
  },
  {
   "cell_type": "code",
   "execution_count": null,
   "id": "4f358d50-9442-4ae1-8c64-b0712f6a3de1",
   "metadata": {},
   "outputs": [],
   "source": [
    "def get_boxscores(gameIDs):\n",
    "    for i in gameIDs:\n",
    "        box_call = boxscore.BoxScore(i)\n",
    "        stats_key_dict.update(box_call.get_dict()['game']['awayTeam']['statistics'])\n",
    "        box_df = box_df.append(stats_key_dictionary, ignore_index=True)\n",
    "    \n",
    "        stats_key_dictionary.update(box_call.get_dict()['game']['homeTeam']['statistics'])\n",
    "        box_df = box_df.append(stats_key_dictionary, ignore_index=True)\n",
    "    \n",
    "        time.sleep(1) #necessary to help mitigate timeouts"
   ]
  },
  {
   "cell_type": "markdown",
   "id": "7074b0ba-cc93-48bb-be68-e21d75a13ee8",
   "metadata": {},
   "source": [
    "### Building dataframe"
   ]
  },
  {
   "cell_type": "code",
   "execution_count": null,
   "id": "636073c5-4f38-4240-8567-8d3e996ef2bf",
   "metadata": {},
   "outputs": [],
   "source": [
    "# Test boxscore variable\n",
    "test_box = boxscore.BoxScore(game_ids_list[0])\n",
    "\n",
    "# create a blank dictionary, adopting the box score statistic's keys \n",
    "stats_key_dict = dict.fromkeys(test_box.get_dict()['game']['homeTeam']['statistics'].keys(), [])\n",
    "\n",
    "# create blank dataframe\n",
    "box_df = pd.DataFrame.from_dict(stats_key_dict, orient='index').T\n",
    "\n",
    "print(box_df)"
   ]
  },
  {
   "cell_type": "markdown",
   "id": "298a8832-146b-4237-acff-b95f93acdaef",
   "metadata": {},
   "source": [
    "### Calling functions"
   ]
  },
  {
   "cell_type": "code",
   "execution_count": null,
   "id": "02a365a3-243c-49d4-9c57-db6ecfae5d72",
   "metadata": {
    "tags": []
   },
   "outputs": [],
   "source": [
    "# variable calling on game id function\n",
    "game_ids_list = form_gameIDs(2022)\n",
    "print(len(game_ids_list))"
   ]
  },
  {
   "cell_type": "code",
   "execution_count": null,
   "id": "faf04973-7f4b-42d3-af1d-90b92f5594e3",
   "metadata": {},
   "outputs": [],
   "source": [
    "# variable calling on game dates function\n",
    "boxscore_dates_list = get_boxscore_dates(game_ids_list)\n",
    "print(len(boxscore_dates_list))"
   ]
  },
  {
   "cell_type": "code",
   "execution_count": null,
   "id": "7fddd51b-1ed8-4869-a225-0c7940d1f596",
   "metadata": {},
   "outputs": [],
   "source": [
    "# calling function to gather boxscores using gameID list\n",
    "get_boxscores(game_ids_list)"
   ]
  },
  {
   "cell_type": "markdown",
   "id": "d0a19e86-8a95-43f1-be19-330e1f1a70e3",
   "metadata": {
    "tags": []
   },
   "source": [
    "### Forming new list items so to add to dataframe as new columns\n",
    "* Home/Away\n",
    "* Game dates\n",
    "* Game IDs"
   ]
  },
  {
   "cell_type": "code",
   "execution_count": null,
   "id": "784b5337-b4ab-46ed-b3a3-d21890e51e29",
   "metadata": {},
   "outputs": [],
   "source": [
    "# inserting 'Home/Away' data\n",
    "box_df['Home/Away'] = box_df.reset_index().apply(lambda x: 'Away' if x['index'] % 2 == 0 else 'Home', axis=1)"
   ]
  },
  {
   "cell_type": "code",
   "execution_count": null,
   "id": "4a58a80f-bf12-4be5-a795-0c6a04cdf383",
   "metadata": {},
   "outputs": [],
   "source": [
    "temp_dates_list = [item for item in dates_list for i in range(2)]\n",
    "temp_gameid_list = [item for item in game_ids_list for i in range(2)]\n",
    "box_df.insert(0, 'Date', temp_dates_list)\n",
    "box_df.insert(1, 'Game ID', temp_gameid_list)"
   ]
  },
  {
   "cell_type": "markdown",
   "id": "2f0076ed-3973-4991-b4bb-95a097920937",
   "metadata": {},
   "source": [
    "## Archiving the Data"
   ]
  },
  {
   "cell_type": "code",
   "execution_count": null,
   "id": "22e09cb7-4e5a-49d2-8f01-ee504589ae50",
   "metadata": {},
   "outputs": [],
   "source": [
    "# archive the data\n",
    "# Save the dataframe to a file or a database of your choice (you can use any format you want)\n",
    "box_df.to_csv(\"Spreadsheets/box_score_all.csv\", index=False)"
   ]
  },
  {
   "cell_type": "code",
   "execution_count": null,
   "id": "5c2c3eff-c17d-4832-abec-63c8a450a184",
   "metadata": {},
   "outputs": [],
   "source": [
    "# Import the nba_api and pandas modules\n",
    "import nba_api\n",
    "import pandas as pd\n",
    "from nba_api.stats.endpoints import leaguegamefinder, boxscoretraditionalv2\n",
    "\n",
    "# Define the season\n",
    "season = \"2022-23\"\n",
    "\n",
    "# Get all the regular season games for the season\n",
    "games = leaguegamefinder.LeagueGameFinder(season_nullable=season, season_type_nullable=\"Regular Season\").get_data_frames()[0]\n",
    "\n",
    "# Create an empty dataframe to store the box score data\n",
    "box_score_df = pd.DataFrame()\n",
    "\n",
    "# Loop through the games and get the box score for each game\n",
    "for game in games.itertuples():\n",
    "    # Get the game id\n",
    "    game_id = game.GAME_ID\n",
    "    # Get the box score\n",
    "    box_score = boxscoretraditionalv2.BoxScoreTraditionalV2(game_id=game_id).get_data_frames()[0]\n",
    "    # Append the box score data to the dataframe\n",
    "    box_score_df = pd.concat([box_score_df, box_score], ignore_index=True)\n",
    "    print(game_id)"
   ]
  }
 ],
 "metadata": {
  "kernelspec": {
   "display_name": "Python 3 (ipykernel)",
   "language": "python",
   "name": "python3"
  },
  "language_info": {
   "codemirror_mode": {
    "name": "ipython",
    "version": 3
   },
   "file_extension": ".py",
   "mimetype": "text/x-python",
   "name": "python",
   "nbconvert_exporter": "python",
   "pygments_lexer": "ipython3",
   "version": "3.10.8"
  }
 },
 "nbformat": 4,
 "nbformat_minor": 5
}
