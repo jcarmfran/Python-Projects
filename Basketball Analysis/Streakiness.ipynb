{
 "cells": [
  {
   "cell_type": "markdown",
   "id": "0f8bc894-1144-4e5f-863d-064fb2ce9963",
   "metadata": {
    "tags": []
   },
   "source": [
    "## How to empower coaches to make future decision based on the present data.\n",
    "* Do players really \"get hot\"?\n",
    "\t* Does making one shot make it more or less likely that they will make the next?\n",
    "\t\t* Is the above true for *all* players?\n",
    "\t\t* Are some player's inherently/apparently \"streaky\"?\n",
    "\t* By what metrics should we see to find this truth?\n",
    "\t\t* 3 PT\n",
    "        \n",
    "## And 1 and clutchness\n",
    "\n",
    "## "
   ]
  },
  {
   "cell_type": "markdown",
   "id": "29ce81c2-2cc1-4862-aa35-12990c8f692c",
   "metadata": {},
   "source": [
    "Does making a shot make it more or less likely that they make the next? Or does it not matter? \n",
    "\n",
    "Everything averages out in the end, right?"
   ]
  },
  {
   "cell_type": "markdown",
   "id": "96a2eff9-d3b9-4e56-b03f-69f6dd4926d6",
   "metadata": {},
   "source": [
    "Getting play-by-play data\n",
    "Github: https://github.com/dblackrun/pbpstats\n",
    "\n",
    "Documentation: https://pbpstats.readthedocs.io/en/latest/quickstart.html\n",
    "\n"
   ]
  },
  {
   "cell_type": "code",
   "execution_count": null,
   "id": "a714a308-ac24-4c81-97b8-f19bfc3fd472",
   "metadata": {},
   "outputs": [],
   "source": [
    "#if you want to use the API to gather this data, install the req modules\n",
    "#pip install pbpstats"
   ]
  },
  {
   "cell_type": "markdown",
   "id": "6726ffea-21be-4862-bf06-86dba9a99b1b",
   "metadata": {},
   "source": [
    "I decided to download the data instead\n",
    "\n",
    "Made shot vs not made\n",
    "\n",
    "\n",
    "\n",
    "How to measure a player's streakyness\n",
    "* Do streaky players have large slumps?\n",
    "* Do non-streaky players make at least one shot a game?\n",
    "* How far off are they from the medium? (standard deviations)\n",
    "\n",
    "Let's just look at average 3pt percentage in any given season."
   ]
  },
  {
   "cell_type": "code",
   "execution_count": 2,
   "id": "26845c71-a20e-410d-af7c-e39c5186106b",
   "metadata": {},
   "outputs": [],
   "source": [
    "#import libraries\n",
    "import pandas as pd\n",
    "import matplotlib.pyplot as plt"
   ]
  },
  {
   "cell_type": "code",
   "execution_count": null,
   "id": "349f6e96-8c85-4338-a78d-54caf20698f8",
   "metadata": {
    "tags": []
   },
   "outputs": [],
   "source": [
    "#scrape https://www.basketball-reference.com/leagues/NBA_stats_per_game.html\n",
    "dfs = pd.read_html(\"https://www.basketball-reference.com/leagues/NBA_stats_per_game.html\")\n",
    "dfs"
   ]
  },
  {
   "cell_type": "code",
   "execution_count": null,
   "id": "74e24834-0209-48ca-9ce5-1880eb34ec59",
   "metadata": {},
   "outputs": [],
   "source": [
    "df = dfs[0]"
   ]
  },
  {
   "cell_type": "code",
   "execution_count": null,
   "id": "2480ed47-e549-43ca-a926-a8b33ec28c62",
   "metadata": {
    "tags": []
   },
   "outputs": [],
   "source": [
    "print(\"First five rows of dataframe:\\n\", df.head(5))\n",
    "print(\"\\nDataframe columns (muli-index check):\\n\", df.columns)\n",
    "print(\"\\nDataframe object types:\\n\", df.dtypes)"
   ]
  },
  {
   "cell_type": "markdown",
   "id": "976cdf51-52e1-408a-9ed8-d32a4630a950",
   "metadata": {},
   "source": [
    "### Clean up the dataframe"
   ]
  },
  {
   "cell_type": "code",
   "execution_count": null,
   "id": "139abdd6-9554-4b35-b636-e1235a4f46c0",
   "metadata": {
    "tags": []
   },
   "outputs": [],
   "source": [
    "#drop the unnecessary multilevel columns first\n",
    "df.columns=df.columns.droplevel()\n",
    "df.head(5)"
   ]
  },
  {
   "cell_type": "code",
   "execution_count": null,
   "id": "07d87292-8adc-43ce-8084-dde8d145a2bd",
   "metadata": {},
   "outputs": [],
   "source": [
    "#can now get rid of unncessary columns (rank and league) \n",
    "df = df.drop(['Rk', 'Lg'], axis='columns')\n",
    "             \n",
    "#focusing on the last 20 years\n",
    "df = df.head(20)\n",
    "\n",
    "#sort the values per now new top level column \"Season\"\n",
    "df = df.sort_values(\"Season\", ascending=True)\n",
    "\n",
    "#apply object\n",
    "df = df.apply(pd.to_numeric, errors=\"ignore\")"
   ]
  },
  {
   "cell_type": "code",
   "execution_count": null,
   "id": "55d8edbc-0ac8-4913-921b-d21287e5ce22",
   "metadata": {},
   "outputs": [],
   "source": [
    "#check if changes took\n",
    "print(df.head(5))\n",
    "df.dtypes"
   ]
  },
  {
   "cell_type": "code",
   "execution_count": null,
   "id": "d7cf4913-f031-46a2-b84e-cca7bae88598",
   "metadata": {
    "tags": []
   },
   "outputs": [],
   "source": [
    "df[[\"Season\", \"3PA\", \"3P\", \"3P%\"]]"
   ]
  },
  {
   "cell_type": "code",
   "execution_count": null,
   "id": "bfac5e4f-fdab-4905-bae1-cd739dc0dae2",
   "metadata": {},
   "outputs": [],
   "source": [
    "fig, ax1 = plt.subplots(figsize=(15, 5))\n",
    "\n",
    "# start of second plot (bar-3PA-blue)\n",
    "color = 'tab:blue'\n",
    "ax1.set_xlabel('Season')\n",
    "ax1.set_ylabel('3 point attempts', color=color)\n",
    "ax1.bar(df['Season'], df[\"3PA\"], color=color, width=0.8, alpha=0.6)\n",
    "ax1.tick_params(axis='y', labelcolor=color)\n",
    "\n",
    "# instantiate a second axes that shares the same x-axis\n",
    "ax2 = ax1.twinx()  \n",
    "\n",
    "# start of second plot (line-3P%-red)\n",
    "color = 'tab:red'\n",
    "# we already handled the x-label with ax1\n",
    "# ax1.set_xlabel('Season')\n",
    "ax2.set_ylabel('3 point percentage', color=color)  \n",
    "ax2.plot(df['Season'], df['3PA'], color=color)\n",
    "ax2.tick_params(axis='y', labelcolor=color)\n",
    "\n",
    "fig.tight_layout()  # otherwise the right y-label is slightly clipped\n",
    "plt.show()"
   ]
  },
  {
   "cell_type": "markdown",
   "id": "61ca23e3-9483-4761-a8f9-ab74b4c6b622",
   "metadata": {},
   "source": [
    "Now that we've established a relative baseline of what to expect at the conclusion of a basketball season, let's see if we can better understand what shooting looks like throughout the course of an entire season. One way we could do that is getting the daily averages of a single NBA season.\n",
    "\n",
    "Regardless of the source, we ultimately need to reference the game ID if we are looking to get the necessary box score information.\n",
    "\n",
    "Thankfully for us, there's an API for that:\n",
    "* https://github.com/swar/nba_api\n",
    "    * https://github.com/swar/nba_api/blob/master/src/nba_api/live/nba/endpoints/boxscore.py\n",
    "    * documentation: https://github.com/swar/nba_api/blob/master/docs/nba_api/live/endpoints/boxscore.md"
   ]
  },
  {
   "cell_type": "markdown",
   "id": "8b63fe6a-a969-4845-b518-37ea0b9583b4",
   "metadata": {},
   "source": [
    "It would be nice to tap an online resource that helps deliver those daily NBA averages, but it would seem as though that there is no such resource. We will instead be making our own resource.\n",
    "\n",
    "Some points worth remembering:\n",
    "* The 2022–23 NBA season is the 76th season of the NBA.\n",
    "* The regular season began on October 18, 2022\n",
    "* Ended on April 9, 2023\n",
    "* The 2023 NBA playoffs began on April 15, 2023\n",
    "* Playoffs will end with the NBA Finals in June 2023\n",
    "* 30 teams in the NBA\n",
    "* Each team plays 82 games\n",
    "* The NBA's Game ID, is a 10-digit code: XXXYYGGGGG, where...\n",
    "* XXX refers to a season prefix\n",
    "* YY is the season year (e.g. 14 for 2014-15)\n",
    "* GGGGG refers to the game number (1-1230 for a full 30-team regular season)\n",
    "\n",
    "in our case, if we want to look into the 2022-23 season, our NBA game IDs will span from 0022200001- 0022201230"
   ]
  },
  {
   "cell_type": "code",
   "execution_count": null,
   "id": "ebc11aa4-873b-40ae-a335-c88a509e464f",
   "metadata": {},
   "outputs": [],
   "source": []
  },
  {
   "cell_type": "markdown",
   "id": "93659836-e27c-4c0a-9abc-8ade49c05cb3",
   "metadata": {},
   "source": [
    "A CSV with all the games played"
   ]
  },
  {
   "cell_type": "code",
   "execution_count": 60,
   "id": "16faf91b-640d-4250-aa58-37bfc14664c3",
   "metadata": {},
   "outputs": [],
   "source": [
    "schedule = pd.read_csv(\"Spreadsheets/2022-23 nba schedule.csv\")"
   ]
  },
  {
   "cell_type": "code",
   "execution_count": 52,
   "id": "7c7af887-e737-47a6-9d83-8a1744d21654",
   "metadata": {
    "collapsed": true,
    "jupyter": {
     "outputs_hidden": true
    },
    "tags": []
   },
   "outputs": [
    {
     "data": {
      "text/html": [
       "<div>\n",
       "<style scoped>\n",
       "    .dataframe tbody tr th:only-of-type {\n",
       "        vertical-align: middle;\n",
       "    }\n",
       "\n",
       "    .dataframe tbody tr th {\n",
       "        vertical-align: top;\n",
       "    }\n",
       "\n",
       "    .dataframe thead th {\n",
       "        text-align: right;\n",
       "    }\n",
       "</style>\n",
       "<table border=\"1\" class=\"dataframe\">\n",
       "  <thead>\n",
       "    <tr style=\"text-align: right;\">\n",
       "      <th></th>\n",
       "      <th>Date</th>\n",
       "      <th>Start (ET)</th>\n",
       "      <th>Visitor/Neutral</th>\n",
       "      <th>PTS</th>\n",
       "      <th>Home/Neutral</th>\n",
       "      <th>PTS.1</th>\n",
       "      <th>Unnamed: 6</th>\n",
       "      <th>Unnamed: 7</th>\n",
       "      <th>Attend.</th>\n",
       "      <th>Arena</th>\n",
       "      <th>Notes</th>\n",
       "    </tr>\n",
       "  </thead>\n",
       "  <tbody>\n",
       "    <tr>\n",
       "      <th>0</th>\n",
       "      <td>Tue Oct 18 2022</td>\n",
       "      <td>7:30p</td>\n",
       "      <td>Philadelphia 76ers</td>\n",
       "      <td>117</td>\n",
       "      <td>Boston Celtics</td>\n",
       "      <td>126</td>\n",
       "      <td>Box Score</td>\n",
       "      <td>NaN</td>\n",
       "      <td>19156.0</td>\n",
       "      <td>TD Garden</td>\n",
       "      <td>NaN</td>\n",
       "    </tr>\n",
       "    <tr>\n",
       "      <th>1</th>\n",
       "      <td>Tue Oct 18 2022</td>\n",
       "      <td>10:00p</td>\n",
       "      <td>Los Angeles Lakers</td>\n",
       "      <td>109</td>\n",
       "      <td>Golden State Warriors</td>\n",
       "      <td>123</td>\n",
       "      <td>Box Score</td>\n",
       "      <td>NaN</td>\n",
       "      <td>18064.0</td>\n",
       "      <td>Chase Center</td>\n",
       "      <td>NaN</td>\n",
       "    </tr>\n",
       "    <tr>\n",
       "      <th>2</th>\n",
       "      <td>Wed Oct 19 2022</td>\n",
       "      <td>7:00p</td>\n",
       "      <td>Orlando Magic</td>\n",
       "      <td>109</td>\n",
       "      <td>Detroit Pistons</td>\n",
       "      <td>113</td>\n",
       "      <td>Box Score</td>\n",
       "      <td>NaN</td>\n",
       "      <td>20190.0</td>\n",
       "      <td>Little Caesars Arena</td>\n",
       "      <td>NaN</td>\n",
       "    </tr>\n",
       "    <tr>\n",
       "      <th>3</th>\n",
       "      <td>Wed Oct 19 2022</td>\n",
       "      <td>7:00p</td>\n",
       "      <td>Washington Wizards</td>\n",
       "      <td>114</td>\n",
       "      <td>Indiana Pacers</td>\n",
       "      <td>107</td>\n",
       "      <td>Box Score</td>\n",
       "      <td>NaN</td>\n",
       "      <td>15027.0</td>\n",
       "      <td>Gainbridge Fieldhouse</td>\n",
       "      <td>NaN</td>\n",
       "    </tr>\n",
       "    <tr>\n",
       "      <th>4</th>\n",
       "      <td>Wed Oct 19 2022</td>\n",
       "      <td>7:30p</td>\n",
       "      <td>Houston Rockets</td>\n",
       "      <td>107</td>\n",
       "      <td>Atlanta Hawks</td>\n",
       "      <td>117</td>\n",
       "      <td>Box Score</td>\n",
       "      <td>NaN</td>\n",
       "      <td>17878.0</td>\n",
       "      <td>State Farm Arena</td>\n",
       "      <td>NaN</td>\n",
       "    </tr>\n",
       "    <tr>\n",
       "      <th>...</th>\n",
       "      <td>...</td>\n",
       "      <td>...</td>\n",
       "      <td>...</td>\n",
       "      <td>...</td>\n",
       "      <td>...</td>\n",
       "      <td>...</td>\n",
       "      <td>...</td>\n",
       "      <td>...</td>\n",
       "      <td>...</td>\n",
       "      <td>...</td>\n",
       "      <td>...</td>\n",
       "    </tr>\n",
       "    <tr>\n",
       "      <th>1225</th>\n",
       "      <td>Sun Apr 9 2023</td>\n",
       "      <td>3:30p</td>\n",
       "      <td>Utah Jazz</td>\n",
       "      <td>117</td>\n",
       "      <td>Los Angeles Lakers</td>\n",
       "      <td>128</td>\n",
       "      <td>Box Score</td>\n",
       "      <td>NaN</td>\n",
       "      <td>18997.0</td>\n",
       "      <td>Crypto.com Arena</td>\n",
       "      <td>NaN</td>\n",
       "    </tr>\n",
       "    <tr>\n",
       "      <th>1226</th>\n",
       "      <td>Sun Apr 9 2023</td>\n",
       "      <td>3:30p</td>\n",
       "      <td>New Orleans Pelicans</td>\n",
       "      <td>108</td>\n",
       "      <td>Minnesota Timberwolves</td>\n",
       "      <td>113</td>\n",
       "      <td>Box Score</td>\n",
       "      <td>NaN</td>\n",
       "      <td>18978.0</td>\n",
       "      <td>Target Center</td>\n",
       "      <td>NaN</td>\n",
       "    </tr>\n",
       "    <tr>\n",
       "      <th>1227</th>\n",
       "      <td>Sun Apr 9 2023</td>\n",
       "      <td>3:30p</td>\n",
       "      <td>Memphis Grizzlies</td>\n",
       "      <td>100</td>\n",
       "      <td>Oklahoma City Thunder</td>\n",
       "      <td>115</td>\n",
       "      <td>Box Score</td>\n",
       "      <td>NaN</td>\n",
       "      <td>16601.0</td>\n",
       "      <td>Paycom Center</td>\n",
       "      <td>NaN</td>\n",
       "    </tr>\n",
       "    <tr>\n",
       "      <th>1228</th>\n",
       "      <td>Sun Apr 9 2023</td>\n",
       "      <td>3:30p</td>\n",
       "      <td>Los Angeles Clippers</td>\n",
       "      <td>119</td>\n",
       "      <td>Phoenix Suns</td>\n",
       "      <td>114</td>\n",
       "      <td>Box Score</td>\n",
       "      <td>NaN</td>\n",
       "      <td>17071.0</td>\n",
       "      <td>Footprint Center</td>\n",
       "      <td>NaN</td>\n",
       "    </tr>\n",
       "    <tr>\n",
       "      <th>1229</th>\n",
       "      <td>Sun Apr 9 2023</td>\n",
       "      <td>3:30p</td>\n",
       "      <td>Golden State Warriors</td>\n",
       "      <td>157</td>\n",
       "      <td>Portland Trail Blazers</td>\n",
       "      <td>101</td>\n",
       "      <td>Box Score</td>\n",
       "      <td>NaN</td>\n",
       "      <td>19731.0</td>\n",
       "      <td>Moda Center</td>\n",
       "      <td>NaN</td>\n",
       "    </tr>\n",
       "  </tbody>\n",
       "</table>\n",
       "<p>1230 rows × 11 columns</p>\n",
       "</div>"
      ],
      "text/plain": [
       "                 Date Start (ET)        Visitor/Neutral  PTS  \\\n",
       "0     Tue Oct 18 2022      7:30p     Philadelphia 76ers  117   \n",
       "1     Tue Oct 18 2022     10:00p     Los Angeles Lakers  109   \n",
       "2     Wed Oct 19 2022      7:00p          Orlando Magic  109   \n",
       "3     Wed Oct 19 2022      7:00p     Washington Wizards  114   \n",
       "4     Wed Oct 19 2022      7:30p        Houston Rockets  107   \n",
       "...               ...        ...                    ...  ...   \n",
       "1225   Sun Apr 9 2023      3:30p              Utah Jazz  117   \n",
       "1226   Sun Apr 9 2023      3:30p   New Orleans Pelicans  108   \n",
       "1227   Sun Apr 9 2023      3:30p      Memphis Grizzlies  100   \n",
       "1228   Sun Apr 9 2023      3:30p   Los Angeles Clippers  119   \n",
       "1229   Sun Apr 9 2023      3:30p  Golden State Warriors  157   \n",
       "\n",
       "                Home/Neutral  PTS.1 Unnamed: 6 Unnamed: 7  Attend.  \\\n",
       "0             Boston Celtics    126  Box Score        NaN  19156.0   \n",
       "1      Golden State Warriors    123  Box Score        NaN  18064.0   \n",
       "2            Detroit Pistons    113  Box Score        NaN  20190.0   \n",
       "3             Indiana Pacers    107  Box Score        NaN  15027.0   \n",
       "4              Atlanta Hawks    117  Box Score        NaN  17878.0   \n",
       "...                      ...    ...        ...        ...      ...   \n",
       "1225      Los Angeles Lakers    128  Box Score        NaN  18997.0   \n",
       "1226  Minnesota Timberwolves    113  Box Score        NaN  18978.0   \n",
       "1227   Oklahoma City Thunder    115  Box Score        NaN  16601.0   \n",
       "1228            Phoenix Suns    114  Box Score        NaN  17071.0   \n",
       "1229  Portland Trail Blazers    101  Box Score        NaN  19731.0   \n",
       "\n",
       "                      Arena  Notes  \n",
       "0                 TD Garden    NaN  \n",
       "1              Chase Center    NaN  \n",
       "2      Little Caesars Arena    NaN  \n",
       "3     Gainbridge Fieldhouse    NaN  \n",
       "4          State Farm Arena    NaN  \n",
       "...                     ...    ...  \n",
       "1225       Crypto.com Arena    NaN  \n",
       "1226          Target Center    NaN  \n",
       "1227          Paycom Center    NaN  \n",
       "1228       Footprint Center    NaN  \n",
       "1229            Moda Center    NaN  \n",
       "\n",
       "[1230 rows x 11 columns]"
      ]
     },
     "execution_count": 52,
     "metadata": {},
     "output_type": "execute_result"
    }
   ],
   "source": [
    "schedule"
   ]
  },
  {
   "cell_type": "code",
   "execution_count": 53,
   "id": "4a702995-98fc-4252-8f1a-4740410c7daf",
   "metadata": {},
   "outputs": [],
   "source": [
    "schedule = schedule.drop(['Notes', 'Unnamed: 6', 'Unnamed: 7'], axis=1)"
   ]
  },
  {
   "cell_type": "code",
   "execution_count": 54,
   "id": "bb3f82d9-7b18-4492-a7b0-651483be50a3",
   "metadata": {},
   "outputs": [
    {
     "data": {
      "text/plain": [
       "Date                object\n",
       "Start (ET)          object\n",
       "Visitor/Neutral     object\n",
       "PTS                  int64\n",
       "Home/Neutral        object\n",
       "PTS.1                int64\n",
       "Attend.            float64\n",
       "Arena               object\n",
       "dtype: object"
      ]
     },
     "execution_count": 54,
     "metadata": {},
     "output_type": "execute_result"
    }
   ],
   "source": [
    "schedule.dtypes"
   ]
  },
  {
   "cell_type": "code",
   "execution_count": 61,
   "id": "c4890938-30c2-4a68-ac93-19e95b831f6c",
   "metadata": {},
   "outputs": [],
   "source": [
    "dates = schedule[\"Date\"]"
   ]
  },
  {
   "cell_type": "code",
   "execution_count": 62,
   "id": "da9c8670-c3a4-4518-a0ac-193752774dbb",
   "metadata": {
    "collapsed": true,
    "jupyter": {
     "outputs_hidden": true
    },
    "tags": []
   },
   "outputs": [
    {
     "name": "stdout",
     "output_type": "stream",
     "text": [
      "0       Tue Oct 18 2022\n",
      "1       Tue Oct 18 2022\n",
      "2       Wed Oct 19 2022\n",
      "3       Wed Oct 19 2022\n",
      "4       Wed Oct 19 2022\n",
      "             ...       \n",
      "1225     Sun Apr 9 2023\n",
      "1226     Sun Apr 9 2023\n",
      "1227     Sun Apr 9 2023\n",
      "1228     Sun Apr 9 2023\n",
      "1229     Sun Apr 9 2023\n",
      "Name: Date, Length: 1230, dtype: object\n",
      "<class 'pandas.core.series.Series'>\n",
      "['Tue Oct 18 2022' 'Wed Oct 19 2022' 'Thu Oct 20 2022' 'Fri Oct 21 2022'\n",
      " 'Sat Oct 22 2022' 'Sun Oct 23 2022' 'Mon Oct 24 2022' 'Tue Oct 25 2022'\n",
      " 'Wed Oct 26 2022' 'Thu Oct 27 2022' 'Fri Oct 28 2022' 'Sat Oct 29 2022'\n",
      " 'Sun Oct 30 2022' 'Mon Oct 31 2022' 'Tue Nov 1 2022' 'Wed Nov 2 2022'\n",
      " 'Thu Nov 3 2022' 'Fri Nov 4 2022' 'Sat Nov 5 2022' 'Sun Nov 6 2022'\n",
      " 'Mon Nov 7 2022' 'Wed Nov 9 2022' 'Thu Nov 10 2022' 'Fri Nov 11 2022'\n",
      " 'Sat Nov 12 2022' 'Sun Nov 13 2022' 'Mon Nov 14 2022' 'Tue Nov 15 2022'\n",
      " 'Wed Nov 16 2022' 'Thu Nov 17 2022' 'Fri Nov 18 2022' 'Sat Nov 19 2022'\n",
      " 'Sun Nov 20 2022' 'Mon Nov 21 2022' 'Tue Nov 22 2022' 'Wed Nov 23 2022'\n",
      " 'Fri Nov 25 2022' 'Sat Nov 26 2022' 'Sun Nov 27 2022' 'Mon Nov 28 2022'\n",
      " 'Tue Nov 29 2022' 'Wed Nov 30 2022' 'Thu Dec 1 2022' 'Fri Dec 2 2022'\n",
      " 'Sat Dec 3 2022' 'Sun Dec 4 2022' 'Mon Dec 5 2022' 'Tue Dec 6 2022'\n",
      " 'Wed Dec 7 2022' 'Thu Dec 8 2022' 'Fri Dec 9 2022' 'Sat Dec 10 2022'\n",
      " 'Sun Dec 11 2022' 'Mon Dec 12 2022' 'Tue Dec 13 2022' 'Wed Dec 14 2022'\n",
      " 'Thu Dec 15 2022' 'Fri Dec 16 2022' 'Sat Dec 17 2022' 'Sun Dec 18 2022'\n",
      " 'Mon Dec 19 2022' 'Tue Dec 20 2022' 'Wed Dec 21 2022' 'Thu Dec 22 2022'\n",
      " 'Fri Dec 23 2022' 'Sun Dec 25 2022' 'Mon Dec 26 2022' 'Tue Dec 27 2022'\n",
      " 'Wed Dec 28 2022' 'Thu Dec 29 2022' 'Fri Dec 30 2022' 'Sat Dec 31 2022'\n",
      " 'Sun Jan 1 2023' 'Mon Jan 2 2023' 'Tue Jan 3 2023' 'Wed Jan 4 2023'\n",
      " 'Thu Jan 5 2023' 'Fri Jan 6 2023' 'Sat Jan 7 2023' 'Sun Jan 8 2023'\n",
      " 'Mon Jan 9 2023' 'Tue Jan 10 2023' 'Wed Jan 11 2023' 'Thu Jan 12 2023'\n",
      " 'Fri Jan 13 2023' 'Sat Jan 14 2023' 'Sun Jan 15 2023' 'Mon Jan 16 2023'\n",
      " 'Tue Jan 17 2023' 'Wed Jan 18 2023' 'Thu Jan 19 2023' 'Fri Jan 20 2023'\n",
      " 'Sat Jan 21 2023' 'Sun Jan 22 2023' 'Mon Jan 23 2023' 'Tue Jan 24 2023'\n",
      " 'Wed Jan 25 2023' 'Thu Jan 26 2023' 'Fri Jan 27 2023' 'Sat Jan 28 2023'\n",
      " 'Sun Jan 29 2023' 'Mon Jan 30 2023' 'Tue Jan 31 2023' 'Wed Feb 1 2023'\n",
      " 'Thu Feb 2 2023' 'Fri Feb 3 2023' 'Sat Feb 4 2023' 'Sun Feb 5 2023'\n",
      " 'Mon Feb 6 2023' 'Tue Feb 7 2023' 'Wed Feb 8 2023' 'Thu Feb 9 2023'\n",
      " 'Fri Feb 10 2023' 'Sat Feb 11 2023' 'Sun Feb 12 2023' 'Mon Feb 13 2023'\n",
      " 'Tue Feb 14 2023' 'Wed Feb 15 2023' 'Thu Feb 16 2023' 'Thu Feb 23 2023'\n",
      " 'Fri Feb 24 2023' 'Sat Feb 25 2023' 'Sun Feb 26 2023' 'Mon Feb 27 2023'\n",
      " 'Tue Feb 28 2023' 'Wed Mar 1 2023' 'Thu Mar 2 2023' 'Fri Mar 3 2023'\n",
      " 'Sat Mar 4 2023' 'Sun Mar 5 2023' 'Mon Mar 6 2023' 'Tue Mar 7 2023'\n",
      " 'Wed Mar 8 2023' 'Thu Mar 9 2023' 'Fri Mar 10 2023' 'Sat Mar 11 2023'\n",
      " 'Sun Mar 12 2023' 'Mon Mar 13 2023' 'Tue Mar 14 2023' 'Wed Mar 15 2023'\n",
      " 'Thu Mar 16 2023' 'Fri Mar 17 2023' 'Sat Mar 18 2023' 'Sun Mar 19 2023'\n",
      " 'Mon Mar 20 2023' 'Tue Mar 21 2023' 'Wed Mar 22 2023' 'Thu Mar 23 2023'\n",
      " 'Fri Mar 24 2023' 'Sat Mar 25 2023' 'Sun Mar 26 2023' 'Mon Mar 27 2023'\n",
      " 'Tue Mar 28 2023' 'Wed Mar 29 2023' 'Thu Mar 30 2023' 'Fri Mar 31 2023'\n",
      " 'Sat Apr 1 2023' 'Sun Apr 2 2023' 'Tue Apr 4 2023' 'Wed Apr 5 2023'\n",
      " 'Thu Apr 6 2023' 'Fri Apr 7 2023' 'Sat Apr 8 2023' 'Sun Apr 9 2023']\n",
      "164\n"
     ]
    }
   ],
   "source": [
    "print(dates)\n",
    "print(type(dates))\n",
    "print(dates.unique())\n",
    "print(len(dates.unique()))"
   ]
  },
  {
   "cell_type": "code",
   "execution_count": 68,
   "id": "e3ae97a3-7078-40de-96d0-ce426be1e75f",
   "metadata": {},
   "outputs": [],
   "source": [
    "test = dates.apply(pd.to_datetime).dt.normalize()"
   ]
  },
  {
   "cell_type": "code",
   "execution_count": 69,
   "id": "c10cc366-c9c7-43d4-b8a9-a85f7b37be82",
   "metadata": {
    "collapsed": true,
    "jupyter": {
     "outputs_hidden": true
    },
    "tags": []
   },
   "outputs": [
    {
     "data": {
      "text/plain": [
       "0      2022-10-18\n",
       "1      2022-10-18\n",
       "2      2022-10-19\n",
       "3      2022-10-19\n",
       "4      2022-10-19\n",
       "          ...    \n",
       "1225   2023-04-09\n",
       "1226   2023-04-09\n",
       "1227   2023-04-09\n",
       "1228   2023-04-09\n",
       "1229   2023-04-09\n",
       "Name: Date, Length: 1230, dtype: datetime64[ns]"
      ]
     },
     "execution_count": 69,
     "metadata": {},
     "output_type": "execute_result"
    }
   ],
   "source": [
    "test"
   ]
  },
  {
   "cell_type": "code",
   "execution_count": null,
   "id": "f587e88c-f31c-47dc-96bb-a7e3c97f6548",
   "metadata": {},
   "outputs": [],
   "source": [
    "#content"
   ]
  }
 ],
 "metadata": {
  "kernelspec": {
   "display_name": "Python 3 (ipykernel)",
   "language": "python",
   "name": "python3"
  },
  "language_info": {
   "codemirror_mode": {
    "name": "ipython",
    "version": 3
   },
   "file_extension": ".py",
   "mimetype": "text/x-python",
   "name": "python",
   "nbconvert_exporter": "python",
   "pygments_lexer": "ipython3",
   "version": "3.10.8"
  }
 },
 "nbformat": 4,
 "nbformat_minor": 5
}
