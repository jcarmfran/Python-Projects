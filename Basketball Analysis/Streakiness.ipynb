{
 "cells": [
  {
   "cell_type": "markdown",
   "id": "0f8bc894-1144-4e5f-863d-064fb2ce9963",
   "metadata": {},
   "source": [
    "## How to empower coaches to make future decision based on the present data.\n",
    "* Do players really \"get hot\"?\n",
    "\t* Does making one shot make it more or less likely that they will make the next?\n",
    "\t\t* Is the above true for *all* players?\n",
    "\t\t* Are some player's inherently/apparently \"streaky\"?\n",
    "\t* By what metrics should we see to find this truth?\n",
    "\t\t* 3 PT\n",
    "        \n",
    "## And 1 and clutchness\n",
    "\n",
    "## "
   ]
  },
  {
   "cell_type": "markdown",
   "id": "29ce81c2-2cc1-4862-aa35-12990c8f692c",
   "metadata": {},
   "source": [
    "Does making a shot make it more or less likely that they make the next? Or does it not matter? \n",
    "\n",
    "Everything averages out in the end, right?"
   ]
  },
  {
   "cell_type": "markdown",
   "id": "96a2eff9-d3b9-4e56-b03f-69f6dd4926d6",
   "metadata": {},
   "source": [
    "Getting play-by-play data\n",
    "Github: https://github.com/dblackrun/pbpstats\n",
    "\n",
    "Documentation: https://pbpstats.readthedocs.io/en/latest/quickstart.html\n",
    "\n"
   ]
  },
  {
   "cell_type": "code",
   "execution_count": null,
   "id": "a714a308-ac24-4c81-97b8-f19bfc3fd472",
   "metadata": {},
   "outputs": [],
   "source": [
    "#if you want to use the API to gather this data, install the req modules\n",
    "#pip install pbpstats"
   ]
  },
  {
   "cell_type": "markdown",
   "id": "6726ffea-21be-4862-bf06-86dba9a99b1b",
   "metadata": {},
   "source": [
    "I decided to download the data instead\n",
    "\n",
    "Made shot vs not made\n",
    "\n",
    "The NBA's Game ID, is a 10-digit code: XXXYYGGGGG, where...\n",
    "* XXX refers to a season prefix\n",
    "* YY is the season year (e.g. 14 for 2014-15)\n",
    "* GGGGG refers to the game number (1-1230 for a full 30-team regular season)\n",
    "\n",
    "How to measure a player's streakyness\n",
    "* Do streaky players have large slumps?\n",
    "* Do non-streaky players make at least one shot a game?\n",
    "* How far off are they from the medium? (standard deviations)\n",
    "\n",
    "Let's just look at average 3pt percentage in any given season."
   ]
  },
  {
   "cell_type": "code",
   "execution_count": null,
   "id": "26845c71-a20e-410d-af7c-e39c5186106b",
   "metadata": {},
   "outputs": [],
   "source": [
    "import pandas as pd"
   ]
  },
  {
   "cell_type": "code",
   "execution_count": null,
   "id": "349f6e96-8c85-4338-a78d-54caf20698f8",
   "metadata": {},
   "outputs": [],
   "source": [
    "#average 3pt makes/attempts = % for the last 20 seasons\n",
    "\n",
    "#scrape https://www.basketball-reference.com/leagues/NBA_stats_per_game.html\n",
    "dfs = pd.read_html(\"https://www.basketball-reference.com/leagues/NBA_stats_per_game.html\")\n"
   ]
  },
  {
   "cell_type": "code",
   "execution_count": null,
   "id": "3eb9a69c-1c55-4ed6-983e-dfddb24e29af",
   "metadata": {},
   "outputs": [],
   "source": [
    "dfs"
   ]
  },
  {
   "cell_type": "code",
   "execution_count": null,
   "id": "74e24834-0209-48ca-9ce5-1880eb34ec59",
   "metadata": {},
   "outputs": [],
   "source": [
    "df = dfs[0]"
   ]
  },
  {
   "cell_type": "code",
   "execution_count": null,
   "id": "8829763d-81f9-4d1e-a6be-396bd861e1ad",
   "metadata": {
    "tags": []
   },
   "outputs": [],
   "source": [
    "df.head(5)"
   ]
  },
  {
   "cell_type": "code",
   "execution_count": null,
   "id": "ac662c14-5f18-464d-bec5-e627fb91cb9d",
   "metadata": {
    "tags": []
   },
   "outputs": [],
   "source": [
    "#drop the unnecessary multilevel column\n",
    "df.columns=df.columns.droplevel()"
   ]
  },
  {
   "cell_type": "code",
   "execution_count": null,
   "id": "41abdfba-e950-431c-ae2d-62c7f829549a",
   "metadata": {
    "tags": []
   },
   "outputs": [],
   "source": [
    "df.columns"
   ]
  },
  {
   "cell_type": "code",
   "execution_count": null,
   "id": "139abdd6-9554-4b35-b636-e1235a4f46c0",
   "metadata": {
    "tags": []
   },
   "outputs": [],
   "source": [
    "df = df.sort_values(\"Season\", ascending=True)\n",
    "del df[[\"Rk\", \"Lg\"]]\n",
    "df"
   ]
  },
  {
   "cell_type": "code",
   "execution_count": null,
   "id": "c3b77292-5a7c-4683-a4bd-a0f0e51add73",
   "metadata": {
    "tags": []
   },
   "outputs": [],
   "source": [
    "df.dtypes"
   ]
  },
  {
   "cell_type": "code",
   "execution_count": null,
   "id": "80a65b94-04e2-4823-be4f-d9eba0594b6c",
   "metadata": {
    "tags": []
   },
   "outputs": [],
   "source": [
    "df = df.apply(pd.to_numeric, errors=\"ignore\")\n",
    "df.dtypes"
   ]
  },
  {
   "cell_type": "code",
   "execution_count": null,
   "id": "55d8edbc-0ac8-4913-921b-d21287e5ce22",
   "metadata": {},
   "outputs": [],
   "source": [
    "#focus on the last 20 years\n",
    "df= df.head(20)"
   ]
  },
  {
   "cell_type": "code",
   "execution_count": null,
   "id": "d7cf4913-f031-46a2-b84e-cca7bae88598",
   "metadata": {
    "tags": []
   },
   "outputs": [],
   "source": [
    "df[[\"Season\", \"3PA\", \"3P\", \"3P%\"]]"
   ]
  },
  {
   "cell_type": "code",
   "execution_count": null,
   "id": "c2e07369-ceef-4d32-9375-0a01413c8005",
   "metadata": {},
   "outputs": [],
   "source": [
    "import matplotlib.pyplot as plt"
   ]
  },
  {
   "cell_type": "code",
   "execution_count": null,
   "id": "bfac5e4f-fdab-4905-bae1-cd739dc0dae2",
   "metadata": {},
   "outputs": [],
   "source": [
    "fig, ax1 = plt.subplots(figsize=(15, 5))\n",
    "\n",
    "# start of second plot (bar-3PA-blue)\n",
    "color = 'tab:blue'\n",
    "ax1.set_xlabel('Season')\n",
    "ax1.set_ylabel('3 point attempts', color=color)\n",
    "ax1.bar(df['Season'], df[\"3PA\"], color=color, width=0.8, alpha=0.6)\n",
    "ax1.tick_params(axis='y', labelcolor=color)\n",
    "\n",
    "# instantiate a second axes that shares the same x-axis\n",
    "ax2 = ax1.twinx()  \n",
    "\n",
    "# start of second plot (line-3P%-red)\n",
    "color = 'tab:red'\n",
    "# we already handled the x-label with ax1\n",
    "# ax1.set_xlabel('Season')\n",
    "ax2.set_ylabel('3 point percentage', color=color)  \n",
    "ax2.plot(df['Season'], df['3PA'], color=color)\n",
    "ax2.tick_params(axis='y', labelcolor=color)\n",
    "\n",
    "fig.tight_layout()  # otherwise the right y-label is slightly clipped\n",
    "plt.show()"
   ]
  }
 ],
 "metadata": {
  "kernelspec": {
   "display_name": "Python 3 (ipykernel)",
   "language": "python",
   "name": "python3"
  },
  "language_info": {
   "codemirror_mode": {
    "name": "ipython",
    "version": 3
   },
   "file_extension": ".py",
   "mimetype": "text/x-python",
   "name": "python",
   "nbconvert_exporter": "python",
   "pygments_lexer": "ipython3",
   "version": "3.10.8"
  }
 },
 "nbformat": 4,
 "nbformat_minor": 5
}
