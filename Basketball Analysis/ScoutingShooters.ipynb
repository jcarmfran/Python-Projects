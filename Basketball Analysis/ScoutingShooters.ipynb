{
 "cells": [
  {
   "cell_type": "code",
   "execution_count": 1,
   "id": "68c4270a-6032-43ef-9b39-83b4093da900",
   "metadata": {},
   "outputs": [],
   "source": [
    "#importing libraries\n",
    "import requests\n",
    "from bs4 import BeautifulSoup\n",
    "import pandas as pd\n",
    "import numpy as np\n",
    "import matplotlib.pyplot as plt\n",
    "import seaborn as sns"
   ]
  },
  {
   "cell_type": "code",
   "execution_count": 2,
   "id": "73a7d0ff-0cfb-4b84-a08c-cd2a2b469373",
   "metadata": {},
   "outputs": [],
   "source": [
    "def download_player_html(playerID):\n",
    "    last_initial = playerID[0]\n",
    "    url_base = \"https://www.basketball-reference.com/players/{}/{}.html\"\n",
    "    url = url_base.format(last_initial, playerID)\n",
    "    data = requests.get(url)\n",
    "     \n",
    "    #page is saved as an html and placed in Players folder\n",
    "    with open(\"Players/{}.html\".format(playerID), \"w+\", encoding = \"utf-8\") as f:\n",
    "        f.write(data.text)"
   ]
  },
  {
   "cell_type": "code",
   "execution_count": 3,
   "id": "3760e09a-b812-4048-afee-61f0a7b0d804",
   "metadata": {},
   "outputs": [],
   "source": [
    "def sort_rookies_FTA(csv_file):\n",
    "    rookie = pd.read_csv(csv_file)\n",
    "    rookie_FTA = rookie[rookie[\"FTA\"] > 0]\n",
    "    rookie_FTA_sorted = rookie_FTA.sort_values(\"FTA\", ascending=False)\n",
    "    rookie_FTA_top_100 = rookie_FTA_sorted.head(100)\n",
    "    return rookie_FTA_top_100"
   ]
  },
  {
   "cell_type": "code",
   "execution_count": 4,
   "id": "2ce5c1c7-0d5a-4f34-b093-b5c57d529ec3",
   "metadata": {},
   "outputs": [],
   "source": [
    "def get_3PT_percentage_5yrs(playerID):\n",
    "    text_list = []\n",
    "        \n",
    "#   open and read Player HTML page    \n",
    "    with open(\"Players/{}.html\".format(playerID), encoding = \"utf-8\") as r:\n",
    "        page = r.read()\n",
    "    \n",
    "# create beautiful soup object from HTML\n",
    "    soup = BeautifulSoup(page, \"html.parser\")\n",
    " \n",
    "    #returning 5 seasons worth of \"fg3_pct\" = tr[4]td[13]\n",
    "    for i in range(5):\n",
    "        out = [tr.get_text() for tr in soup.select(\"tr.full_table\")[i]]\n",
    "        if out[13] != '':\n",
    "            text_list.append(float(out[13]))\n",
    "    r.close()\n",
    "    return text_list"
   ]
  },
  {
   "cell_type": "markdown",
   "id": "179e2aac-8c02-429a-900e-3ab94995ba11",
   "metadata": {
    "tags": []
   },
   "source": [
    "## Import and Sort DataFrames "
   ]
  },
  {
   "cell_type": "markdown",
   "id": "eab2a262-ad3c-47e2-a3b8-0ff9d2079eea",
   "metadata": {
    "tags": []
   },
   "source": [
    "### Import Rookie Seasonal Data from Archived CSV"
   ]
  },
  {
   "cell_type": "code",
   "execution_count": 5,
   "id": "07d3cb56-9009-4426-a738-efb4985db544",
   "metadata": {},
   "outputs": [],
   "source": [
    "top_100_rookies_FTA = sort_rookies_FTA('Spreadsheets/NBA_Rookies_90-16.csv')"
   ]
  },
  {
   "cell_type": "markdown",
   "id": "bf2be1f1-b2c5-4c8f-a1f1-5d98f065b7fb",
   "metadata": {},
   "source": [
    "### Filter top FTA rookies with at least one 3PT make"
   ]
  },
  {
   "cell_type": "code",
   "execution_count": 6,
   "id": "bb2d7573-dbf3-447c-8fb1-2770a290aeba",
   "metadata": {},
   "outputs": [],
   "source": [
    "#of the top 100 rookies with the most FTA, which made least one made three point shot\n",
    "top_FTA_rookies_3PT = top_100_rookies_FTA[top_100_rookies_FTA[\"3P%\"] > 0]"
   ]
  },
  {
   "cell_type": "markdown",
   "id": "56517a53-ce16-4cea-9dad-632b5692f7c7",
   "metadata": {},
   "source": [
    "### Clean up DataFrame"
   ]
  },
  {
   "cell_type": "code",
   "execution_count": 7,
   "id": "5afec801-807b-437e-b381-12139aeaa3ce",
   "metadata": {},
   "outputs": [],
   "source": [
    "top_FTA_rookies_3PT = top_FTA_rookies_3PT.reset_index(drop=True)"
   ]
  },
  {
   "cell_type": "markdown",
   "id": "bfb59107-11dc-4b44-b3a7-142e4190d0f1",
   "metadata": {
    "tags": []
   },
   "source": [
    "### Print DataFrame and verify attributes"
   ]
  },
  {
   "cell_type": "code",
   "execution_count": 8,
   "id": "4b74114e-d772-4d72-9129-f323d0295be8",
   "metadata": {
    "tags": []
   },
   "outputs": [
    {
     "name": "stdout",
     "output_type": "stream",
     "text": [
      "                 Player                     Debut  Age  Yrs   G    MP   FG  \\\n",
      "0         Blake Griffin  Oct 27, '10, LAC vs. POR   21    1  82  3112  696   \n",
      "1    Christian Laettner     Nov 6, '92, MIN @ BOS   23    1  81  2823  503   \n",
      "2        Allen Iverson*   Nov 1, '96, PHI vs. MIL   21    1  76  3045  625   \n",
      "3       Carmelo Anthony  Oct 29, '03, DEN vs. SAS   19    1  82  2995  624   \n",
      "4   Shareef Abdur-Rahim   Nov 1, '96, VAN vs. POR   20    1  80  2802  550   \n",
      "..                  ...                       ...  ...  ...  ..   ...  ...   \n",
      "74         Isaiah Rider     Nov 5, '93, MIN @ DET   22    1  79  2415  522   \n",
      "75    Richard Jefferson  Oct 30, '01, NJN vs. IND   21    1  79  1917  270   \n",
      "76        Lamond Murray   Nov 4, '94, LAC vs. POR   21    1  81  2556  439   \n",
      "77         Marcus Camby   Nov 1, '96, TOR vs. NYK   22    1  63  1897  375   \n",
      "78        Nick Anderson   Nov 4, '89, ORL vs. NJN   22    1  81  1785  372   \n",
      "\n",
      "     FGA   3P  3PA  ...   PTS    FG%    3P%    FT%  MP.1  PTS.1  TRB.1  AST.1  \\\n",
      "0   1376    7   24  ...  1845  0.506  0.292  0.642  38.0   22.5   12.1    3.8   \n",
      "1   1061    4   40  ...  1472  0.474  0.100  0.835  34.9   18.2    8.7    2.8   \n",
      "2   1504  155  455  ...  1787  0.416  0.341  0.702  40.1   23.5    4.1    7.5   \n",
      "3   1465   69  214  ...  1725  0.426  0.322  0.777  36.5   21.0    6.1    2.8   \n",
      "4   1214    7   27  ...  1494  0.453  0.259  0.746  35.0   18.7    6.9    2.2   \n",
      "..   ...  ...  ...  ...   ...    ...    ...    ...   ...    ...    ...    ...   \n",
      "74  1115   54  150  ...  1313  0.468  0.360  0.811  30.6   16.6    4.0    2.6   \n",
      "75   591   13   56  ...   742  0.457  0.232  0.713  24.3    9.4    3.7    1.8   \n",
      "76  1093   65  218  ...  1142  0.402  0.298  0.754  31.6   14.1    4.4    1.6   \n",
      "77   778    2   14  ...   935  0.482  0.143  0.693  30.1   14.8    6.3    1.5   \n",
      "78   753    1   17  ...   931  0.494  0.059  0.705  22.0   11.5    3.9    1.5   \n",
      "\n",
      "    Year      BR ID  \n",
      "0   2011  griffbl01  \n",
      "1   1993  laettch01  \n",
      "2   1997  iversal01  \n",
      "3   2004  anthoca01  \n",
      "4   1997  abdursh01  \n",
      "..   ...        ...  \n",
      "74  1994  rideris01  \n",
      "75  2002  jefferi01  \n",
      "76  1995  murrala01  \n",
      "77  1997  cambyma01  \n",
      "78  1990  anderni01  \n",
      "\n",
      "[79 rows x 29 columns]\n",
      "<class 'pandas.core.frame.DataFrame'>\n",
      "79\n"
     ]
    }
   ],
   "source": [
    "print(top_FTA_rookies_3PT)\n",
    "print(type(top_FTA_rookies_3PT))\n",
    "print(len(top_FTA_rookies_3PT))"
   ]
  },
  {
   "cell_type": "code",
   "execution_count": 9,
   "id": "ad0f0a65-1cb6-400d-9dda-8c336c8c56b3",
   "metadata": {
    "tags": []
   },
   "outputs": [
    {
     "name": "stdout",
     "output_type": "stream",
     "text": [
      "                 Player  FTA    FT%    3P%      BR ID  Year\n",
      "0         Blake Griffin  695  0.642  0.292  griffbl01  2011\n",
      "1    Christian Laettner  553  0.835  0.100  laettch01  1993\n",
      "2        Allen Iverson*  544  0.702  0.341  iversal01  1997\n",
      "3       Carmelo Anthony  525  0.777  0.322  anthoca01  2004\n",
      "4   Shareef Abdur-Rahim  519  0.746  0.259  abdursh01  1997\n",
      "..                  ...  ...    ...    ...        ...   ...\n",
      "74         Isaiah Rider  265  0.811  0.360  rideris01  1994\n",
      "75    Richard Jefferson  265  0.713  0.232  jefferi01  2002\n",
      "76        Lamond Murray  264  0.754  0.298  murrala01  1995\n",
      "77         Marcus Camby  264  0.693  0.143  cambyma01  1997\n",
      "78        Nick Anderson  264  0.705  0.059  anderni01  1990\n",
      "\n",
      "[79 rows x 6 columns]\n",
      "<class 'pandas.core.frame.DataFrame'>\n"
     ]
    }
   ],
   "source": [
    "#getting player 3PT data five years\n",
    "print(top_FTA_rookies_3PT[[\"Player\",\"FTA\", \"FT%\", \"3P%\", \"BR ID\", \"Year\"]])\n",
    "print(type(top_FTA_rookies_3PT[[\"Player\",\"FTA\", \"FT%\", \"3P%\", \"BR ID\", \"Year\"]]))"
   ]
  },
  {
   "cell_type": "markdown",
   "id": "1a02e0c5-14a9-47cc-bee1-f1a88a7278aa",
   "metadata": {
    "tags": []
   },
   "source": [
    "## Downloading Player Pages"
   ]
  },
  {
   "cell_type": "code",
   "execution_count": 22,
   "id": "50c16d1c-48ef-401b-8af9-828b3e910a30",
   "metadata": {
    "tags": []
   },
   "outputs": [],
   "source": [
    "#segmenting \"BR ID\" series into thirds to avoid site restrictions\n",
    "top_third = top_FTA_rookies_3PT[\"BR ID\"].iloc[0:28]\n",
    "mid_third = top_FTA_rookies_3PT[\"BR ID\"].iloc[28:56]\n",
    "bottom_third = top_FTA_rookies_3PT[\"BR ID\"].iloc[56:]"
   ]
  },
  {
   "cell_type": "code",
   "execution_count": 21,
   "id": "c8542684-81aa-4e92-8701-779a99b05067",
   "metadata": {
    "collapsed": true,
    "jupyter": {
     "outputs_hidden": true
    },
    "tags": []
   },
   "outputs": [
    {
     "name": "stdout",
     "output_type": "stream",
     "text": [
      "Top Third:\n",
      "0     griffbl01\n",
      "1     laettch01\n",
      "2     iversal01\n",
      "3     anthoca01\n",
      "4     abdursh01\n",
      "5     stackje01\n",
      "6      hillgr01\n",
      "7     robingl01\n",
      "8     stoudam01\n",
      "9     gasolpa01\n",
      "10    wiggian01\n",
      "11    evansty01\n",
      "12     paulch01\n",
      "13    jamesle01\n",
      "14    duranke01\n",
      "15    colemde01\n",
      "16    mashbja01\n",
      "17    simmoli01\n",
      "18    westbru01\n",
      "19     odomla01\n",
      "20    bakervi01\n",
      "21    johnsla02\n",
      "22    weathcl01\n",
      "23    marcisa01\n",
      "24    couside01\n",
      "25     walljo01\n",
      "26    smithjo02\n",
      "27    butleca01\n",
      "Name: BR ID, dtype: object\n",
      "<class 'pandas.core.series.Series'>\n",
      "Middle Third:\n",
      "28     mingya01\n",
      "29    kirilan01\n",
      "30    cartemi01\n",
      "31    walkean02\n",
      "32    francst01\n",
      "33    grantbr01\n",
      "34    gordoer01\n",
      "35    fortsda01\n",
      "36    marbust01\n",
      "37     loveke01\n",
      "38     maystr01\n",
      "39    hardaan01\n",
      "40    douglsh01\n",
      "41    finlemi01\n",
      "42    lillada01\n",
      "43    augmost01\n",
      "44    oladivi01\n",
      "45    ellisla01\n",
      "46    anderde01\n",
      "47     wadedw01\n",
      "48    owensbi01\n",
      "49    sabonar01\n",
      "50    vanhoke01\n",
      "51    williwa02\n",
      "52    ilgauzy01\n",
      "53    willier01\n",
      "54      dayto01\n",
      "55    stoudda01\n",
      "Name: BR ID, dtype: object\n",
      "Bottom Third:\n",
      "56    burtowi01\n",
      "57    millean02\n",
      "58    thornal01\n",
      "59     boshch01\n",
      "60    mirotni01\n",
      "61    battish01\n",
      "62    sprewla01\n",
      "63    guglito01\n",
      "64     mayooj01\n",
      "65    artesro01\n",
      "66    hardati01\n",
      "67     kiddja01\n",
      "68    townska01\n",
      "69    jennibr01\n",
      "70    flynnjo01\n",
      "71    gordobe01\n",
      "72    cartevi01\n",
      "73    billuch01\n",
      "74    rideris01\n",
      "75    jefferi01\n",
      "76    murrala01\n",
      "77    cambyma01\n",
      "78    anderni01\n",
      "Name: BR ID, dtype: object\n"
     ]
    }
   ],
   "source": [
    "#printing the segmented series' \"BR ID\"s\n",
    "print(\"Top Third:\")\n",
    "print(top_third)\n",
    "print(type(top_third))\n",
    "\n",
    "print(\"Middle Third:\")\n",
    "print(mid_third)\n",
    "\n",
    "print(\"Bottom Third:\")\n",
    "print(bottom_third)"
   ]
  },
  {
   "cell_type": "code",
   "execution_count": 23,
   "id": "c19c6afa-5c6b-4b39-82d4-4aa75b6543e4",
   "metadata": {
    "tags": []
   },
   "outputs": [
    {
     "name": "stdout",
     "output_type": "stream",
     "text": [
      "griffbl01\n",
      "laettch01\n",
      "iversal01\n",
      "anthoca01\n",
      "abdursh01\n",
      "stackje01\n",
      "hillgr01\n",
      "robingl01\n",
      "stoudam01\n",
      "gasolpa01\n",
      "wiggian01\n",
      "evansty01\n",
      "paulch01\n",
      "jamesle01\n",
      "duranke01\n",
      "colemde01\n",
      "mashbja01\n",
      "simmoli01\n",
      "westbru01\n",
      "odomla01\n",
      "bakervi01\n",
      "johnsla02\n",
      "weathcl01\n",
      "marcisa01\n",
      "couside01\n",
      "walljo01\n",
      "smithjo02\n",
      "butleca01\n"
     ]
    }
   ],
   "source": [
    "#for loop to download first third of player pages\n",
    "for playerIDs in top_third:\n",
    "    print(playerIDs)\n",
    "    download_player_html(playerIDs)"
   ]
  },
  {
   "cell_type": "code",
   "execution_count": null,
   "id": "c95305ec-f8d3-43f9-be26-80924f00a2ce",
   "metadata": {
    "tags": []
   },
   "outputs": [],
   "source": [
    "#for loop to download middle third of player pages\n",
    "for playerIDs in mid_third:\n",
    "    print(playerIDs)\n",
    "    download_player_html(playerIDs)"
   ]
  },
  {
   "cell_type": "code",
   "execution_count": null,
   "id": "ebda9e98-06b0-4a09-b27a-03d51e94503b",
   "metadata": {
    "tags": []
   },
   "outputs": [],
   "source": [
    "#for loop to download last third of player pages\n",
    "for playerIDs in bottom_third:\n",
    "    print(playerIDs)\n",
    "    download_player_html(playerIDs)"
   ]
  },
  {
   "cell_type": "markdown",
   "id": "1337a472-bcf3-4446-a997-d4c31c9c4b67",
   "metadata": {
    "tags": []
   },
   "source": [
    "## Creating BR ID and 5 year 3P% Dataframe"
   ]
  },
  {
   "cell_type": "markdown",
   "id": "1c150278-372f-492e-92d5-dbf9dde325d2",
   "metadata": {
    "tags": []
   },
   "source": [
    "### for loop"
   ]
  },
  {
   "cell_type": "code",
   "execution_count": 13,
   "id": "4fffc9c4-bf74-4d17-b3f7-05e9b9d0e44b",
   "metadata": {},
   "outputs": [],
   "source": [
    "#single list object soon to house other lists\n",
    "BR_ID_and_3PT_list =[]"
   ]
  },
  {
   "cell_type": "code",
   "execution_count": 14,
   "id": "4d44ab57-a25a-4b3c-8fe3-8327f620e9bc",
   "metadata": {
    "tags": []
   },
   "outputs": [],
   "source": [
    "for playerID in top_FTA_rookies_3PT[\"BR ID\"]:\n",
    "    temp_list = get_3PT_percentage_5yrs(playerID)\n",
    "    temp_list.insert(0, playerID)\n",
    "    BR_ID_and_3PT_list.append(temp_list)"
   ]
  },
  {
   "cell_type": "code",
   "execution_count": 15,
   "id": "a09447d3-d0a9-45b2-b028-9a712a440a84",
   "metadata": {
    "collapsed": true,
    "jupyter": {
     "outputs_hidden": true
    },
    "tags": []
   },
   "outputs": [
    {
     "data": {
      "text/plain": [
       "[['griffbl01', 0.292, 0.125, 0.179, 0.273, 0.4],\n",
       " ['laettch01', 0.1, 0.24, 0.325, 0.231, 0.352],\n",
       " ['iversal01', 0.341, 0.298, 0.291, 0.341, 0.32],\n",
       " ['anthoca01', 0.322, 0.266, 0.243, 0.268, 0.354],\n",
       " ['abdursh01', 0.259, 0.412, 0.306, 0.302, 0.188],\n",
       " ['stackje01', 0.318, 0.298, 0.241, 0.278, 0.288],\n",
       " ['hillgr01', 0.148, 0.192, 0.303, 0.143, 0.0],\n",
       " ['robingl01', 0.321, 0.342, 0.35, 0.385, 0.392],\n",
       " ['stoudam01', 0.2, 0.2, 0.188, 0.0, 0.0],\n",
       " ['gasolpa01', 0.2, 0.1, 0.267, 0.167, 0.25],\n",
       " ['wiggian01', 0.31, 0.3, 0.356, 0.331, 0.339],\n",
       " ['evansty01', 0.255, 0.291, 0.202, 0.338, 0.221],\n",
       " ['paulch01', 0.282, 0.35, 0.369, 0.364, 0.409],\n",
       " ['jamesle01', 0.29, 0.351, 0.335, 0.319, 0.315],\n",
       " ['duranke01', 0.288, 0.422, 0.365, 0.35, 0.387],\n",
       " ['colemde01', 0.342, 0.303, 0.232, 0.314, 0.233],\n",
       " ['mashbja01', 0.284, 0.328, 0.343, 0.325, 0.303],\n",
       " ['simmoli01', 0.273, 0.2, 0.091, 0.353, 0.375],\n",
       " ['westbru01', 0.271, 0.221, 0.33, 0.316, 0.323],\n",
       " ['odomla01', 0.36, 0.316, 0.19, 0.326, 0.298],\n",
       " ['bakervi01', 0.2, 0.292, 0.208, 0.278, 0.143],\n",
       " ['johnsla02', 0.227, 0.254, 0.238, 0.386, 0.366],\n",
       " ['weathcl01', 0.25, 0.235, 0.19, 0.0, 0.167],\n",
       " ['marcisa01', 0.256, 0.167, 0.3, 0.2, 0.402],\n",
       " ['couside01', 0.167, 0.143, 0.182, 0.0, 0.25],\n",
       " ['walljo01', 0.296, 0.071, 0.267, 0.351, 0.3],\n",
       " ['smithjo02', 0.357, 0.261, 0.0, 0.0, 1.0],\n",
       " ['butleca01', 0.318, 0.238, 0.304, 0.342, 0.25],\n",
       " ['mingya01', 0.5, 0.0, 0.0, 0.0],\n",
       " ['kirilan01', 0.25, 0.325, 0.338, 0.299, 0.308],\n",
       " ['cartemi01', 0.264, 0.235, 0.273, 0.234, 0.237],\n",
       " ['walkean02', 0.327, 0.312, 0.369, 0.256, 0.367],\n",
       " ['francst01', 0.345, 0.396, 0.324, 0.354, 0.292],\n",
       " ['grantbr01', 0.25, 0.235, 0.0],\n",
       " ['gordoer01', 0.389, 0.371, 0.364, 0.25, 0.324],\n",
       " ['fortsda01', 0.333, 0.0, 0.25],\n",
       " ['marbust01', 0.354, 0.313, 0.335, 0.283, 0.328],\n",
       " ['loveke01', 0.105, 0.33, 0.417, 0.372, 0.217],\n",
       " ['maystr01', 0.365, 0.5, 0.345, 0.0, 0.365],\n",
       " ['hardaan01', 0.267, 0.349, 0.314, 0.318, 0.3],\n",
       " ['douglsh01', 0.161, 0.129, 0.1, 0.207, 0.232],\n",
       " ['finlemi01', 0.328, 0.361, 0.357, 0.331, 0.401],\n",
       " ['lillada01', 0.368, 0.394, 0.343, 0.375, 0.37],\n",
       " ['augmost01', 0.167, 0.0, 0.143, 0.269, 0.25],\n",
       " ['oladivi01', 0.327, 0.339, 0.348, 0.361, 0.371],\n",
       " ['ellisla01', 0.154, 0.304, 0.182, 0.367],\n",
       " ['anderde01', 0.202, 0.304, 0.309, 0.399, 0.373],\n",
       " ['wadedw01', 0.302, 0.289, 0.171, 0.266, 0.286],\n",
       " ['owensbi01', 0.111, 0.091, 0.2, 0.091, 0.278],\n",
       " ['sabonar01', 0.375, 0.371, 0.261, 0.292, 0.368],\n",
       " ['vanhoke01', 0.308, 0.302, 0.368, 0.382, 0.345],\n",
       " ['williwa02', 0.319, 0.288, 0.348, 0.389, 0.4],\n",
       " ['ilgauzy01', 0.25, 0.0, 0.0, 0.0],\n",
       " ['willier01', 0.3, 0.25, 0.231, 0.347],\n",
       " ['dayto01', 0.293, 0.223, 0.39, 0.331, 0.362],\n",
       " ['stoudda01', 0.395, 0.355, 0.299, 0.31, 0.377],\n",
       " ['burtowi01', 0.133, 0.4, 0.333, 0.2, 0.385],\n",
       " ['millean02', 0.204, 0.266, 0.253, 0.213, 0.185],\n",
       " ['thornal01', 0.331, 0.253, 0.355, 0.154, 0.331],\n",
       " ['boshch01', 0.357, 0.3, 0.0, 0.343, 0.4],\n",
       " ['mirotni01', 0.316, 0.39, 0.342, 0.377, 0.365],\n",
       " ['battish01', 0.373, 0.398, 0.349, 0.395, 0.394],\n",
       " ['sprewla01', 0.369, 0.361, 0.276, 0.323, 0.354],\n",
       " ['guglito01', 0.281, 0.27, 0.323, 0.302, 0.258],\n",
       " ['mayooj01', 0.384, 0.383, 0.364, 0.364, 0.407],\n",
       " ['artesro01', 0.314, 0.291, 0.312, 0.336, 0.31],\n",
       " ['hardati01', 0.274, 0.385, 0.338, 0.33, 0.378],\n",
       " ['kiddja01', 0.272, 0.336, 0.37, 0.313, 0.366],\n",
       " ['townska01', 0.341, 0.367, 0.421, 0.4, 0.412],\n",
       " ['jennibr01', 0.374, 0.323, 0.332, 0.375, 0.337],\n",
       " ['flynnjo01', 0.358, 0.31, 0.294, 0.358, 0.31],\n",
       " ['gordobe01', 0.405, 0.435, 0.413, 0.41, 0.41],\n",
       " ['cartevi01', 0.288, 0.403, 0.408, 0.387, 0.344],\n",
       " ['billuch01', 0.329, 0.362, 0.171, 0.376, 0.394],\n",
       " ['rideris01', 0.36, 0.351, 0.371, 0.385, 0.321],\n",
       " ['jefferi01', 0.232, 0.25, 0.364, 0.337, 0.319],\n",
       " ['murrala01', 0.298, 0.319, 0.341, 0.353, 0.33],\n",
       " ['cambyma01', 0.143, 0.0, 0.5, 0.125],\n",
       " ['anderni01', 0.059, 0.293, 0.353, 0.353, 0.322]]"
      ]
     },
     "execution_count": 15,
     "metadata": {},
     "output_type": "execute_result"
    }
   ],
   "source": [
    "#checking to see that this list is indeed list of lists: outerList[[innerList_1], [innerList_2],...[innerList_n]]\n",
    "BR_ID_and_3PT_list"
   ]
  },
  {
   "cell_type": "code",
   "execution_count": 16,
   "id": "5e3fcd45-41cd-4057-a5a1-3a61c8c14ed1",
   "metadata": {},
   "outputs": [],
   "source": [
    "#create new dataframe with rookie ID and 5 years worth of 3P% data\n",
    "rookie_df = pd.DataFrame(BR_ID_and_3PT_list, columns=['BR ID', 'Yr1', 'Yr2', 'Yr3', 'Yr4', 'Yr5'])"
   ]
  },
  {
   "cell_type": "code",
   "execution_count": 17,
   "id": "82929cb1-3808-478d-8470-05f7bf5dffec",
   "metadata": {
    "collapsed": true,
    "jupyter": {
     "outputs_hidden": true
    },
    "tags": []
   },
   "outputs": [
    {
     "data": {
      "text/html": [
       "<div>\n",
       "<style scoped>\n",
       "    .dataframe tbody tr th:only-of-type {\n",
       "        vertical-align: middle;\n",
       "    }\n",
       "\n",
       "    .dataframe tbody tr th {\n",
       "        vertical-align: top;\n",
       "    }\n",
       "\n",
       "    .dataframe thead th {\n",
       "        text-align: right;\n",
       "    }\n",
       "</style>\n",
       "<table border=\"1\" class=\"dataframe\">\n",
       "  <thead>\n",
       "    <tr style=\"text-align: right;\">\n",
       "      <th></th>\n",
       "      <th>BR ID</th>\n",
       "      <th>Yr1</th>\n",
       "      <th>Yr2</th>\n",
       "      <th>Yr3</th>\n",
       "      <th>Yr4</th>\n",
       "      <th>Yr5</th>\n",
       "    </tr>\n",
       "  </thead>\n",
       "  <tbody>\n",
       "    <tr>\n",
       "      <th>0</th>\n",
       "      <td>griffbl01</td>\n",
       "      <td>0.292</td>\n",
       "      <td>0.125</td>\n",
       "      <td>0.179</td>\n",
       "      <td>0.273</td>\n",
       "      <td>0.400</td>\n",
       "    </tr>\n",
       "    <tr>\n",
       "      <th>1</th>\n",
       "      <td>laettch01</td>\n",
       "      <td>0.100</td>\n",
       "      <td>0.240</td>\n",
       "      <td>0.325</td>\n",
       "      <td>0.231</td>\n",
       "      <td>0.352</td>\n",
       "    </tr>\n",
       "    <tr>\n",
       "      <th>2</th>\n",
       "      <td>iversal01</td>\n",
       "      <td>0.341</td>\n",
       "      <td>0.298</td>\n",
       "      <td>0.291</td>\n",
       "      <td>0.341</td>\n",
       "      <td>0.320</td>\n",
       "    </tr>\n",
       "    <tr>\n",
       "      <th>3</th>\n",
       "      <td>anthoca01</td>\n",
       "      <td>0.322</td>\n",
       "      <td>0.266</td>\n",
       "      <td>0.243</td>\n",
       "      <td>0.268</td>\n",
       "      <td>0.354</td>\n",
       "    </tr>\n",
       "    <tr>\n",
       "      <th>4</th>\n",
       "      <td>abdursh01</td>\n",
       "      <td>0.259</td>\n",
       "      <td>0.412</td>\n",
       "      <td>0.306</td>\n",
       "      <td>0.302</td>\n",
       "      <td>0.188</td>\n",
       "    </tr>\n",
       "    <tr>\n",
       "      <th>...</th>\n",
       "      <td>...</td>\n",
       "      <td>...</td>\n",
       "      <td>...</td>\n",
       "      <td>...</td>\n",
       "      <td>...</td>\n",
       "      <td>...</td>\n",
       "    </tr>\n",
       "    <tr>\n",
       "      <th>74</th>\n",
       "      <td>rideris01</td>\n",
       "      <td>0.360</td>\n",
       "      <td>0.351</td>\n",
       "      <td>0.371</td>\n",
       "      <td>0.385</td>\n",
       "      <td>0.321</td>\n",
       "    </tr>\n",
       "    <tr>\n",
       "      <th>75</th>\n",
       "      <td>jefferi01</td>\n",
       "      <td>0.232</td>\n",
       "      <td>0.250</td>\n",
       "      <td>0.364</td>\n",
       "      <td>0.337</td>\n",
       "      <td>0.319</td>\n",
       "    </tr>\n",
       "    <tr>\n",
       "      <th>76</th>\n",
       "      <td>murrala01</td>\n",
       "      <td>0.298</td>\n",
       "      <td>0.319</td>\n",
       "      <td>0.341</td>\n",
       "      <td>0.353</td>\n",
       "      <td>0.330</td>\n",
       "    </tr>\n",
       "    <tr>\n",
       "      <th>77</th>\n",
       "      <td>cambyma01</td>\n",
       "      <td>0.143</td>\n",
       "      <td>0.000</td>\n",
       "      <td>0.500</td>\n",
       "      <td>0.125</td>\n",
       "      <td>NaN</td>\n",
       "    </tr>\n",
       "    <tr>\n",
       "      <th>78</th>\n",
       "      <td>anderni01</td>\n",
       "      <td>0.059</td>\n",
       "      <td>0.293</td>\n",
       "      <td>0.353</td>\n",
       "      <td>0.353</td>\n",
       "      <td>0.322</td>\n",
       "    </tr>\n",
       "  </tbody>\n",
       "</table>\n",
       "<p>79 rows × 6 columns</p>\n",
       "</div>"
      ],
      "text/plain": [
       "        BR ID    Yr1    Yr2    Yr3    Yr4    Yr5\n",
       "0   griffbl01  0.292  0.125  0.179  0.273  0.400\n",
       "1   laettch01  0.100  0.240  0.325  0.231  0.352\n",
       "2   iversal01  0.341  0.298  0.291  0.341  0.320\n",
       "3   anthoca01  0.322  0.266  0.243  0.268  0.354\n",
       "4   abdursh01  0.259  0.412  0.306  0.302  0.188\n",
       "..        ...    ...    ...    ...    ...    ...\n",
       "74  rideris01  0.360  0.351  0.371  0.385  0.321\n",
       "75  jefferi01  0.232  0.250  0.364  0.337  0.319\n",
       "76  murrala01  0.298  0.319  0.341  0.353  0.330\n",
       "77  cambyma01  0.143  0.000  0.500  0.125    NaN\n",
       "78  anderni01  0.059  0.293  0.353  0.353  0.322\n",
       "\n",
       "[79 rows x 6 columns]"
      ]
     },
     "execution_count": 17,
     "metadata": {},
     "output_type": "execute_result"
    }
   ],
   "source": [
    "#verify the database infromation\n",
    "rookie_df"
   ]
  },
  {
   "cell_type": "markdown",
   "id": "287f85d5-6ce8-492f-a9e5-2d2af87d1af1",
   "metadata": {},
   "source": [
    "## Plotting Using Seaborn"
   ]
  },
  {
   "cell_type": "code",
   "execution_count": null,
   "id": "681b9154-e073-4d61-a96c-80dbe2e03903",
   "metadata": {},
   "outputs": [],
   "source": [
    "FTA_3Pper_plot = sns.relplot(x=rookie_FTA_top_30[\"3P%\"]>0, y=rookie_FTA_top_30[\"FTA\"])"
   ]
  },
  {
   "cell_type": "code",
   "execution_count": null,
   "id": "d09356e4-ce19-4838-9113-c35307816378",
   "metadata": {},
   "outputs": [],
   "source": [
    "FTA_3Pper_plot = sns.relplot(data=rookie_FTA_top_30, x=\"3P%\", y=\"FTA\")"
   ]
  },
  {
   "cell_type": "code",
   "execution_count": null,
   "id": "d574d42d-98b8-4070-b2ef-e051af369a07",
   "metadata": {},
   "outputs": [],
   "source": [
    "FTA_plot = sns.relplot(x=\"Player\", y=\"FTA\", data=rookie_FTA_top_30)"
   ]
  },
  {
   "cell_type": "code",
   "execution_count": null,
   "id": "ed24501b-b4d3-45a9-bb73-4183eb982878",
   "metadata": {},
   "outputs": [],
   "source": [
    "FTA_plot = FTA_plot.set"
   ]
  }
 ],
 "metadata": {
  "kernelspec": {
   "display_name": "Python 3 (ipykernel)",
   "language": "python",
   "name": "python3"
  },
  "language_info": {
   "codemirror_mode": {
    "name": "ipython",
    "version": 3
   },
   "file_extension": ".py",
   "mimetype": "text/x-python",
   "name": "python",
   "nbconvert_exporter": "python",
   "pygments_lexer": "ipython3",
   "version": "3.10.8"
  }
 },
 "nbformat": 4,
 "nbformat_minor": 5
}
