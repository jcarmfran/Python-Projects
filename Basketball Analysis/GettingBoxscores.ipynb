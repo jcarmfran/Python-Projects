{
 "cells": [
  {
   "cell_type": "markdown",
   "id": "5b8bfacf-883a-453c-88d1-d191a11f38ba",
   "metadata": {},
   "source": [
    "## Getting boxscore using nba_api"
   ]
  },
  {
   "cell_type": "code",
   "execution_count": null,
   "id": "cb5eae1c-9c46-466e-8e2c-a3de37039e0d",
   "metadata": {},
   "outputs": [],
   "source": [
    "\"\"\"\n",
    "Goal:\n",
    "Collect the box scores of every NBA regular game matchup in the 2022-23 season.\n",
    "Eventually, this will serve to help illustrate the ebs and flows of shooting accuaracy throughout the course of an NBA season.\n",
    "Could we see whether there are such moments where the league, as a whole, exhibit shooting slumps?\n",
    "\"\"\"\n",
    "\n",
    "# Get BoxScore\n",
    "from nba_api.live.nba.endpoints import boxscore\n",
    "import pandas as pd\n",
    "\n",
    "\n",
    "# Define gameID base value for 2022-23 regular season NBA games \n",
    "gameID_base = '00222{}'\n",
    "\n",
    "# Test boxscore variable\n",
    "test_box = boxscore.BoxScore('0022200001')\n",
    "\n",
    "# create a blank dictionary, adopting the box score statistic's keys \n",
    "stats_key_dictionary = dict.fromkeys(test_box.get_dict()['game']['homeTeam']['statistics'].keys(), [])\n",
    "\n",
    "# create blank dataframe\n",
    "box_df = pd.DataFrame.from_dict(stats_key_dictionary, orient='index').T\n",
    "# loop through each matchup and collect home and away box score data dictionaries\n",
    "# appends dictionaries into dataframe\n",
    "# test loop\n",
    "for i in range(1,5):\n",
    "    gameID_last_5_digits = str(i).zfill(5)\n",
    "    gameID = gameID_base.format(gameID_last_5_digits)\n",
    "    print(gameID)\n",
    "    # calls on API to retrieve the boxscores data of the first five games\n",
    "    box_first_five = boxscore.BoxScore(gameID)\n",
    "   \n",
    "    stats_key_dictionary.update(box_first_five.get_dict()['game']['awayTeam']['statistics'])\n",
    "    box_df = box_df.append(stats_key_dictionary, ignore_index=True)\n",
    "    \n",
    "    stats_key_dictionary.update(box_first_five.get_dict()['game']['homeTeam']['statistics'])\n",
    "    box_df = box_df.append(stats_key_dictionary, ignore_index=True)\n",
    "    \n",
    "print(box_df)"
   ]
  },
  {
   "cell_type": "markdown",
   "id": "a81ecb92-2711-4d47-a43f-b1ad6d37c1e4",
   "metadata": {},
   "source": [
    "## Great alternative, but was getting timeout errors"
   ]
  },
  {
   "cell_type": "code",
   "execution_count": null,
   "id": "5c2c3eff-c17d-4832-abec-63c8a450a184",
   "metadata": {},
   "outputs": [],
   "source": [
    "# Import the nba_api and pandas modules\n",
    "import nba_api\n",
    "import pandas as pd\n",
    "from nba_api.stats.endpoints import leaguegamefinder, boxscoretraditionalv2\n",
    "\n",
    "# Define the season\n",
    "season = \"2022-23\"\n",
    "\n",
    "# Get all the regular season games for the season\n",
    "games = leaguegamefinder.LeagueGameFinder(season_nullable=season, season_type_nullable=\"Regular Season\").get_data_frames()[0]\n",
    "\n",
    "# Create an empty dataframe to store the box score data\n",
    "box_score_df = pd.DataFrame()\n",
    "\n",
    "# Loop through the games and get the box score for each game\n",
    "for game in games.itertuples():\n",
    "    # Get the game id\n",
    "    game_id = game.GAME_ID\n",
    "    # Get the box score\n",
    "    box_score = boxscoretraditionalv2.BoxScoreTraditionalV2(game_id=game_id).get_data_frames()[0]\n",
    "    # Append the box score data to the dataframe\n",
    "    box_score_df = pd.concat([box_score_df, box_score], ignore_index=True)\n",
    "    print(game_id)\n",
    "    \n",
    "\n",
    "# Save the dataframe to a file or a database of your choice (you can use any format you want)\n",
    "box_score_df.to_csv(\"Spreadsheets/box_score_all.csv\", index=False)"
   ]
  },
  {
   "cell_type": "code",
   "execution_count": null,
   "id": "a930fc56-68e8-43e4-98b5-fd7813e9d639",
   "metadata": {},
   "outputs": [],
   "source": []
  }
 ],
 "metadata": {
  "kernelspec": {
   "display_name": "Python 3 (ipykernel)",
   "language": "python",
   "name": "python3"
  },
  "language_info": {
   "codemirror_mode": {
    "name": "ipython",
    "version": 3
   },
   "file_extension": ".py",
   "mimetype": "text/x-python",
   "name": "python",
   "nbconvert_exporter": "python",
   "pygments_lexer": "ipython3",
   "version": "3.10.8"
  }
 },
 "nbformat": 4,
 "nbformat_minor": 5
}
