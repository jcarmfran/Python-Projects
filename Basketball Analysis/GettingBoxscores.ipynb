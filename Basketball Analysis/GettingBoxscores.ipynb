{
 "cells": [
  {
   "cell_type": "markdown",
   "id": "5b8bfacf-883a-453c-88d1-d191a11f38ba",
   "metadata": {},
   "source": [
    "## Getting boxscore using nba_api"
   ]
  },
  {
   "cell_type": "code",
   "execution_count": null,
   "id": "636073c5-4f38-4240-8567-8d3e996ef2bf",
   "metadata": {},
   "outputs": [],
   "source": [
    "\"\"\"\n",
    "Goal:\n",
    "Collect the box scores of every NBA regular game matchup in the 2022-23 season.\n",
    "Eventually, this will serve to help illustrate the ebs and flows of shooting accuaracy throughout the course of an NBA season.\n",
    "Could we see whether there are such moments where the league, as a whole, exhibit shooting slumps?\n",
    "\"\"\"\n",
    "\n",
    "# Get BoxScore\n",
    "from nba_api.live.nba.endpoints import boxscore\n",
    "import pandas as pd\n",
    "\n",
    "\n",
    "# Define gameID base value for 2022-23 regular season NBA games \n",
    "gameID_base = '00222{}'\n",
    "\n",
    "# Test boxscore variable\n",
    "test_box = boxscore.BoxScore('0022200001')\n",
    "\n",
    "# create a blank dictionary, adopting the box score statistic's keys \n",
    "stats_key_dictionary = dict.fromkeys(test_box.get_dict()['game']['homeTeam']['statistics'].keys(), [])\n",
    "\n",
    "# create blank dataframe\n",
    "box_df = pd.DataFrame.from_dict(stats_key_dictionary, orient='index').T"
   ]
  },
  {
   "cell_type": "code",
   "execution_count": null,
   "id": "804fc5d5-2c6a-45fc-99a7-958bb7fd036d",
   "metadata": {},
   "outputs": [],
   "source": [
    "# loop through each matchup and collect home and away box score data dictionaries\n",
    "# appends dictionaries into dataframe\n",
    "# test loop\n",
    "for i in range(1,5):\n",
    "    gameID_last_5_digits = str(i).zfill(5)\n",
    "    gameID = gameID_base.format(gameID_last_5_digits)\n",
    "    print(gameID)\n",
    "    # calls on API to retrieve the boxscores data of the first five games\n",
    "    box_first_five = boxscore.BoxScore(gameID)\n",
    "   \n",
    "    stats_key_dictionary.update(box_first_five.get_dict()['game']['awayTeam']['statistics'])\n",
    "    box_df = box_df.append(stats_key_dictionary, ignore_index=True)\n",
    "    \n",
    "    stats_key_dictionary.update(box_first_five.get_dict()['game']['homeTeam']['statistics'])\n",
    "    box_df = box_df.append(stats_key_dictionary, ignore_index=True)\n",
    "    \n",
    "print(box_df)"
   ]
  },
  {
   "cell_type": "markdown",
   "id": "1ebb92b5-fdf9-44ff-9558-80561bb138d1",
   "metadata": {},
   "source": [
    "## Loop through each match, collect home and away box score data, and append dictionaries into a single dataframe"
   ]
  },
  {
   "cell_type": "code",
   "execution_count": null,
   "id": "1f2ffed2-5978-4341-ab95-5719233d7c8c",
   "metadata": {},
   "outputs": [],
   "source": [
    "# loop through each matchup and collect home and away box score data dictionaries\n",
    "# appends dictionaries into dataframe\n",
    "# test loop (first 5 games of the 2022-23 season)\n",
    "for i in range(1,6):\n",
    "    gameID_last_5_digits = str(i).zfill(5)\n",
    "    gameID = gameID_base.format(gameID_last_5_digits)\n",
    "    print(gameID)\n",
    "    # calls on API to retrieve the boxscores data of the first five games\n",
    "    box_first_five = boxscore.BoxScore(gameID)\n",
    "   \n",
    "    stats_key_dictionary.update(box_first_five.get_dict()['game']['awayTeam']['statistics'])\n",
    "    box_df = box_df.append(stats_key_dictionary, ignore_index=True)\n",
    "    \n",
    "    stats_key_dictionary.update(box_first_five.get_dict()['game']['homeTeam']['statistics'])\n",
    "    box_df = box_df.append(stats_key_dictionary, ignore_index=True)\n",
    "    \n",
    "print(box_df)"
   ]
  },
  {
   "cell_type": "code",
   "execution_count": null,
   "id": "54cdefcc-57a2-4e65-bc06-55feb62811b0",
   "metadata": {},
   "outputs": [],
   "source": [
    "# loop through each matchup and collect home and away box score data dictionaries\n",
    "# appends dictionaries into dataframe\n",
    "# test loop (first 100 games of the 2022-23 season)\n",
    "for i in range(1,101):\n",
    "    gameID_last_5_digits = str(i).zfill(5)\n",
    "    gameID = gameID_base.format(gameID_last_5_digits)\n",
    "    print(gameID)\n",
    "    \n",
    "    # calls on API to retrieve the boxscores data of the first five games\n",
    "    box_first_five = boxscore.BoxScore(gameID)\n",
    "   \n",
    "    stats_key_dictionary.update(box_first_100.get_dict()['game']['awayTeam']['statistics'])\n",
    "    box_df = box_df.append(stats_key_dictionary, ignore_index=True)\n",
    "    \n",
    "    stats_key_dictionary.update(box_first_100.get_dict()['game']['homeTeam']['statistics'])\n",
    "    box_df = box_df.append(stats_key_dictionary, ignore_index=True)\n",
    "    \n",
    "print(box_df)"
   ]
  },
  {
   "cell_type": "markdown",
   "id": "3ff77b33-3313-4fd4-ac42-d5a5926699b8",
   "metadata": {},
   "source": [
    "Calls for the first 500 games failed at game 0022200400"
   ]
  },
  {
   "cell_type": "code",
   "execution_count": null,
   "id": "2a53935e-3a27-40eb-b420-8d3c3a2bcfc8",
   "metadata": {},
   "outputs": [],
   "source": [
    "# loop through each matchup and collect home and away box score data dictionaries\n",
    "# appends dictionaries into dataframe\n",
    "# test loop (first 500 games of the 2022-23 season)\n",
    "for i in range(1,501):\n",
    "    gameID_last_5_digits = str(i).zfill(5)\n",
    "    gameID = gameID_base.format(gameID_last_5_digits)\n",
    "    print(gameID)\n",
    "    \n",
    "    # calls on API to retrieve the boxscores data of the first five games\n",
    "    box_first_five = boxscore.BoxScore(gameID)\n",
    "   \n",
    "    stats_key_dictionary.update(box_first_500.get_dict()['game']['awayTeam']['statistics'])\n",
    "    box_df = box_df.append(stats_key_dictionary, ignore_index=True)\n",
    "    \n",
    "    stats_key_dictionary.update(box_first_500.get_dict()['game']['homeTeam']['statistics'])\n",
    "    box_df = box_df.append(stats_key_dictionary, ignore_index=True)\n",
    "    \n",
    "print(box_df)"
   ]
  },
  {
   "cell_type": "markdown",
   "id": "5e67b45e-0e1e-4290-8dce-97874de64f8b",
   "metadata": {},
   "source": [
    "Error thrown:\n",
    "```python\n",
    "C:AppData\\Local\\Temp\\ipykernel_23008\\2029473471.py:30: FutureWarning: The frame.append method is deprecated and will be removed from pandas in a future version. Use pandas.concat instead.\n",
    "    box_df = box_df.append(stats_key_dictionary, ignore_index=True)\n",
    "0022200399\n",
    "0022200400\n",
    "Traceback (most recent call last):\n",
    "\n",
    "  File ~\\anaconda3\\envs\\env_3_10_8\\lib\\site-packages\\urllib3\\connection.py:174 in _new_conn\n",
    "    conn = connection.create_connection(\n",
    "\n",
    "  File ~\\anaconda3\\envs\\env_3_10_8\\lib\\site-packages\\urllib3\\util\\connection.py:95 in create_connection\n",
    "    raise err\n",
    "\n",
    "  File ~\\anaconda3\\envs\\env_3_10_8\\lib\\site-packages\\urllib3\\util\\connection.py:85 in create_connection\n",
    "    sock.connect(sa)\n",
    "\n",
    "TimeoutError: [WinError 10060] A connection attempt failed because the connected party did not properly respond after a period of time, or established connection failed because connected host has failed to respond\n",
    "```"
   ]
  },
  {
   "cell_type": "markdown",
   "id": "e5d57635-53a0-47ab-b080-f2b3502d7bbf",
   "metadata": {},
   "source": [
    "We'll instead break up the calls into four intervals of 320 games"
   ]
  },
  {
   "cell_type": "code",
   "execution_count": null,
   "id": "4f358d50-9442-4ae1-8c64-b0712f6a3de1",
   "metadata": {},
   "outputs": [],
   "source": [
    "# loop through each matchup and collect home and away box score data dictionaries\n",
    "# appends dictionaries into dataframe\n",
    "# test loops\n",
    "\n",
    "#for i in range(1,321):\n",
    "#for i in range(321,642):\n",
    "#for i in range(642,963):\n",
    "#for i in range(963,1231):\n",
    "    gameID_last_5_digits = str(i).zfill(5)\n",
    "    gameID = gameID_base.format(gameID_last_5_digits)\n",
    "    print(gameID)\n",
    "    \n",
    "    # calls on API to retrieve the boxscores data of the first five games\n",
    "    box_call = boxscore.BoxScore(gameID)\n",
    "   \n",
    "    stats_key_dictionary.update(box_call.get_dict()['game']['awayTeam']['statistics'])\n",
    "    box_df = box_df.append(stats_key_dictionary, ignore_index=True)\n",
    "    \n",
    "    stats_key_dictionary.update(box_call.get_dict()['game']['homeTeam']['statistics'])\n",
    "    box_df = box_df.append(stats_key_dictionary, ignore_index=True)\n",
    "    \n",
    "print(box_df)"
   ]
  },
  {
   "cell_type": "markdown",
   "id": "a81ecb92-2711-4d47-a43f-b1ad6d37c1e4",
   "metadata": {},
   "source": [
    "## Great alternative, but was getting timeout errors"
   ]
  },
  {
   "cell_type": "code",
   "execution_count": null,
   "id": "5c2c3eff-c17d-4832-abec-63c8a450a184",
   "metadata": {},
   "outputs": [],
   "source": [
    "# Import the nba_api and pandas modules\n",
    "import nba_api\n",
    "import pandas as pd\n",
    "from nba_api.stats.endpoints import leaguegamefinder, boxscoretraditionalv2\n",
    "\n",
    "# Define the season\n",
    "season = \"2022-23\"\n",
    "\n",
    "# Get all the regular season games for the season\n",
    "games = leaguegamefinder.LeagueGameFinder(season_nullable=season, season_type_nullable=\"Regular Season\").get_data_frames()[0]\n",
    "\n",
    "# Create an empty dataframe to store the box score data\n",
    "box_score_df = pd.DataFrame()\n",
    "\n",
    "# Loop through the games and get the box score for each game\n",
    "for game in games.itertuples():\n",
    "    # Get the game id\n",
    "    game_id = game.GAME_ID\n",
    "    # Get the box score\n",
    "    box_score = boxscoretraditionalv2.BoxScoreTraditionalV2(game_id=game_id).get_data_frames()[0]\n",
    "    # Append the box score data to the dataframe\n",
    "    box_score_df = pd.concat([box_score_df, box_score], ignore_index=True)\n",
    "    print(game_id)\n",
    "    \n",
    "\n",
    "# Save the dataframe to a file or a database of your choice (you can use any format you want)\n",
    "box_score_df.to_csv(\"Spreadsheets/box_score_all.csv\", index=False)"
   ]
  },
  {
   "cell_type": "code",
   "execution_count": null,
   "id": "a930fc56-68e8-43e4-98b5-fd7813e9d639",
   "metadata": {},
   "outputs": [],
   "source": []
  }
 ],
 "metadata": {
  "kernelspec": {
   "display_name": "Python 3 (ipykernel)",
   "language": "python",
   "name": "python3"
  },
  "language_info": {
   "codemirror_mode": {
    "name": "ipython",
    "version": 3
   },
   "file_extension": ".py",
   "mimetype": "text/x-python",
   "name": "python",
   "nbconvert_exporter": "python",
   "pygments_lexer": "ipython3",
   "version": "3.10.8"
  }
 },
 "nbformat": 4,
 "nbformat_minor": 5
}
