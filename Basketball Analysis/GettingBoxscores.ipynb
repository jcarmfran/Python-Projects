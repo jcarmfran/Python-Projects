{
 "cells": [
  {
   "cell_type": "markdown",
   "id": "5b8bfacf-883a-453c-88d1-d191a11f38ba",
   "metadata": {},
   "source": [
    "## Getting boxscore using nba_api"
   ]
  },
  {
   "cell_type": "code",
   "execution_count": null,
   "id": "6b35b3cb-fd2e-4dbb-9b38-8bc6beb7b8af",
   "metadata": {},
   "outputs": [],
   "source": [
    "# -*- coding: utf-8 -*-\n",
    "\"\"\"\n",
    "Spyder Editor\n",
    "\n",
    "This is a temporary script file.\n",
    "\"\"\"\n",
    "\n",
    "\n",
    "# Get BoxScore\n",
    "from nba_api.live.nba.endpoints import boxscore\n",
    "from nba_api.stats.static import players\n",
    "\n",
    "\n",
    "player_dict = players.get_players()\n",
    "bron = [player for player in player_dict if player['full_name'] == 'LeBron James'][0]\n",
    "\n",
    "# game ID base value for regular season games played in the 2022-2023 season\n",
    "gameID_base = '00222{}'\n",
    "\n",
    "# test boxscore variable\n",
    "test_box = boxscore.BoxScore('0022200001')\n",
    "\n",
    "# setting up a dataframe columns from statistics dictionary keys\n",
    "box_keys = test_box.get_dict()['game']['homeTeam']['statistics'].keys()\n",
    "print(test_keys)\n",
    "\n",
    "# loop needs to \n",
    "# iterates through each matchup of a season\n",
    "# collects home and away box score data dictionaries\n",
    "# appends dictionaries into dataframe\n",
    "# use the dates of the boxscore dictionary \n",
    "\n",
    "# test loop \n",
    "for i in range(1,5):\n",
    "    gameID = str(i).zfill(5)\n",
    "    print(gameID)\n",
    "    box_first_five = boxscore.BoxScore(gameID_base.format(gameID))\n",
    "    date = box_first_five.get_dict()['game']['gameEt']\n",
    "    print(date)\n",
    "    \n",
    "   # away_box = box_first_five.get_dict()['game']['awayTeam']['statistics']\n",
    "   # home_box = box_first_five.get_dict()['game']['homeTeam']['statistics']\n",
    "\n",
    "\n",
    "import pandas as pd\n",
    "#create dataframes for these dictionaries\n",
    "away_df = pd.DataFrame.from_dict(away_box, orient='index').T\n",
    "away_df\n",
    "home_df = pd.DataFrame.from_dict(home_box, orient='index').T\n",
    "\n",
    "both_box_df = pd.DataFrame.from_dict()\n",
    "\n",
    "#a new df that houses the average three point percentage of a each day\n",
    "threePoint_df = pd.DataFrame() \n",
    "\n"
   ]
  }
 ],
 "metadata": {
  "kernelspec": {
   "display_name": "Python 3 (ipykernel)",
   "language": "python",
   "name": "python3"
  },
  "language_info": {
   "codemirror_mode": {
    "name": "ipython",
    "version": 3
   },
   "file_extension": ".py",
   "mimetype": "text/x-python",
   "name": "python",
   "nbconvert_exporter": "python",
   "pygments_lexer": "ipython3",
   "version": "3.10.8"
  }
 },
 "nbformat": 4,
 "nbformat_minor": 5
}
