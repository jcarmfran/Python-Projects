{
 "cells": [
  {
   "cell_type": "markdown",
   "id": "5b8bfacf-883a-453c-88d1-d191a11f38ba",
   "metadata": {},
   "source": [
    "## Getting boxscore using nba_api"
   ]
  },
  {
   "cell_type": "markdown",
   "id": "757eb991-f34b-47e6-bd73-75fdc7628166",
   "metadata": {},
   "source": [
    "Goal:\n",
    "Collect the box scores of every NBA regular game matchup in the 2022-23 season.\n",
    "Eventually, this will serve to help illustrate the ebs and flows of shooting accuaracy throughout the course of an NBA season.\n",
    "Could we see whether there are such moments where the league, as a whole, exhibit shooting slumps?"
   ]
  },
  {
   "cell_type": "code",
   "execution_count": null,
   "id": "00d71550-897b-44bd-b73b-7f85f2794f2c",
   "metadata": {},
   "outputs": [],
   "source": [
    "from nba_api.live.nba.endpoints import boxscore\n",
    "import pandas as pd\n",
    "import time"
   ]
  },
  {
   "cell_type": "markdown",
   "id": "5c8ae4e6-1a6e-4358-8966-642b2f5b24c3",
   "metadata": {},
   "source": [
    "### Function: get_boxscore_dates"
   ]
  },
  {
   "cell_type": "code",
   "execution_count": null,
   "id": "37014036-9ea5-49da-b9a1-1158994b22fc",
   "metadata": {},
   "outputs": [],
   "source": [
    "# function returns list of dates of games played in 2022-23 season   \n",
    "def get_boxscore_dates():\n",
    "    for i in range(1, 1231):\n",
    "        gameID = str(i).zfill(5)\n",
    "        gameIDs = boxscore.BoxScore(gameID_base.format(gameID))\n",
    "        dates_list.append(gameIDs.get_dict()['game']['gameEt'])\n",
    "        time.sleep(1.5)"
   ]
  },
  {
   "cell_type": "markdown",
   "id": "347d995d-44d9-45b7-aa19-63bc5e526b83",
   "metadata": {
    "tags": []
   },
   "source": [
    "### Forming game ID base"
   ]
  },
  {
   "cell_type": "code",
   "execution_count": null,
   "id": "636073c5-4f38-4240-8567-8d3e996ef2bf",
   "metadata": {},
   "outputs": [],
   "source": [
    "# Define gameID base value for 2022-23 regular season NBA games \n",
    "gameID_base = '00222{}'\n",
    "\n",
    "# Test boxscore variable\n",
    "test_box = boxscore.BoxScore('0022200001')\n",
    "\n",
    "# create a blank dictionary, adopting the box score statistic's keys \n",
    "stats_key_dictionary = dict.fromkeys(test_box.get_dict()['game']['homeTeam']['statistics'].keys(), [])\n",
    "\n",
    "# create blank dataframe\n",
    "box_df = pd.DataFrame.from_dict(stats_key_dictionary, orient='index').T"
   ]
  },
  {
   "cell_type": "markdown",
   "id": "255f7015-ddd1-4823-b9e7-f80aa33a871d",
   "metadata": {},
   "source": [
    "## Getting boxscore data"
   ]
  },
  {
   "cell_type": "markdown",
   "id": "1ebb92b5-fdf9-44ff-9558-80561bb138d1",
   "metadata": {},
   "source": [
    "### Loop through each match, collect home and away box score data, and append dictionaries into a single dataframe"
   ]
  },
  {
   "cell_type": "markdown",
   "id": "3ff77b33-3313-4fd4-ac42-d5a5926699b8",
   "metadata": {},
   "source": [
    "Calls for the first half of games failed at game #0022200400"
   ]
  },
  {
   "cell_type": "code",
   "execution_count": null,
   "id": "2a53935e-3a27-40eb-b420-8d3c3a2bcfc8",
   "metadata": {},
   "outputs": [],
   "source": [
    "# loop through each matchup and collect home and away box score data dictionaries\n",
    "# appends dictionaries into dataframe\n",
    "# test loop (first half of 2022-23 season games)\n",
    "for i in range(1,616):\n",
    "    gameID_last_5_digits = str(i).zfill(5)\n",
    "    gameID = gameID_base.format(gameID_last_5_digits)\n",
    "    \n",
    "    # calls on API to retrieve the boxscores data of the first five games\n",
    "    box_first_five = boxscore.BoxScore(gameID)\n",
    "   \n",
    "    stats_key_dictionary.update(box_first_500.get_dict()['game']['awayTeam']['statistics'])\n",
    "    box_df = box_df.append(stats_key_dictionary, ignore_index=True)\n",
    "    print('Home: ', gameID)\n",
    "    \n",
    "    stats_key_dictionary.update(box_first_500.get_dict()['game']['homeTeam']['statistics'])\n",
    "    box_df = box_df.append(stats_key_dictionary, ignore_index=True)\n",
    "    print('Away: ',gameID)\n"
   ]
  },
  {
   "cell_type": "markdown",
   "id": "5e67b45e-0e1e-4290-8dce-97874de64f8b",
   "metadata": {},
   "source": [
    "Error thrown:\n",
    "```python\n",
    "C:AppData\\Local\\Temp\\ipykernel_23008\\2029473471.py:30: FutureWarning: The frame.append method is deprecated and will be removed from pandas in a future version. Use pandas.concat instead.\n",
    "    box_df = box_df.append(stats_key_dictionary, ignore_index=True)\n",
    "Home: 0022200399\n",
    "Away: 0022200399\n",
    "\n",
    "Traceback (most recent call last):\n",
    "\n",
    "  File ~\\anaconda3\\envs\\env_3_10_8\\lib\\site-packages\\urllib3\\connection.py:174 in _new_conn\n",
    "    conn = connection.create_connection(\n",
    "\n",
    "  File ~\\anaconda3\\envs\\env_3_10_8\\lib\\site-packages\\urllib3\\util\\connection.py:95 in create_connection\n",
    "    raise err\n",
    "\n",
    "  File ~\\anaconda3\\envs\\env_3_10_8\\lib\\site-packages\\urllib3\\util\\connection.py:85 in create_connection\n",
    "    sock.connect(sa)\n",
    "\n",
    "TimeoutError: [WinError 10060] A connection attempt failed because the connected party did not properly respond after a period of time, or established connection failed because connected host has failed to respond\n",
    "```"
   ]
  },
  {
   "cell_type": "markdown",
   "id": "e5d57635-53a0-47ab-b080-f2b3502d7bbf",
   "metadata": {},
   "source": [
    "We'll instead break up the calls into four intervals of 320 games"
   ]
  },
  {
   "cell_type": "code",
   "execution_count": 1,
   "id": "4f358d50-9442-4ae1-8c64-b0712f6a3de1",
   "metadata": {},
   "outputs": [
    {
     "ename": "IndentationError",
     "evalue": "unexpected indent (1985646965.py, line 10)",
     "output_type": "error",
     "traceback": [
      "\u001b[1;36m  Cell \u001b[1;32mIn[1], line 10\u001b[1;36m\u001b[0m\n\u001b[1;33m    gameID_last_5_digits = str(i).zfill(5)\u001b[0m\n\u001b[1;37m    ^\u001b[0m\n\u001b[1;31mIndentationError\u001b[0m\u001b[1;31m:\u001b[0m unexpected indent\n"
     ]
    }
   ],
   "source": [
    "# loop through each matchup, collect home and away box score data, and append dictionaries to dataframe\n",
    "\n",
    "#for i in range(1,321):\n",
    "#for i in range(321,642):\n",
    "#for i in range(642,963):\n",
    "#for i in range(963,1231):\n",
    "    gameID_last_5_digits = str(i).zfill(5)\n",
    "    gameID = gameID_base.format(gameID_last_5_digits)\n",
    "    print(gameID)\n",
    "    \n",
    "    # calls on API to retrieve the boxscores data of the first five games\n",
    "    box_call = boxscore.BoxScore(gameID)\n",
    "   \n",
    "    stats_key_dictionary.update(box_call.get_dict()['game']['awayTeam']['statistics'])\n",
    "    box_df = box_df.append(stats_key_dictionary, ignore_index=True)\n",
    "    \n",
    "    stats_key_dictionary.update(box_call.get_dict()['game']['homeTeam']['statistics'])\n",
    "    box_df = box_df.append(stats_key_dictionary, ignore_index=True)\n",
    "    \n",
    "    time.sleep(1) #necessary to help mitigate timeouts"
   ]
  },
  {
   "cell_type": "markdown",
   "id": "e62844f4-fe5f-475c-918d-213ec14de1ca",
   "metadata": {},
   "source": [
    "### Getting boxscore ID"
   ]
  },
  {
   "cell_type": "code",
   "execution_count": null,
   "id": "96626089-a9dc-448d-9d0f-657f98f78cf6",
   "metadata": {},
   "outputs": [],
   "source": [
    "# inserting the game IDs into dataframe\n",
    "gameID_list = []\n",
    "for i in range(1, 1231):\n",
    "    gameID_last5 = str(i).zfill(5)\n",
    "    gameID = gameID_base.format(gameID_last5)\n",
    "    gameID_list.append(gameID)\n",
    "    gameID_list.append(gameID)\n",
    "    \n",
    "box_df['Game ID'] = gameID_list"
   ]
  },
  {
   "cell_type": "markdown",
   "id": "d0a19e86-8a95-43f1-be19-330e1f1a70e3",
   "metadata": {},
   "source": [
    "### Creating & Filling Home/Away Data "
   ]
  },
  {
   "cell_type": "code",
   "execution_count": null,
   "id": "784b5337-b4ab-46ed-b3a3-d21890e51e29",
   "metadata": {},
   "outputs": [],
   "source": [
    "# inserting 'Home/Away' data\n",
    "box_df['Home/Away'] = box_df.reset_index().apply(lambda x: 'Away' if x['index'] % 2 == 0 else 'Home', axis=1)"
   ]
  },
  {
   "cell_type": "markdown",
   "id": "58a12925-69e8-4ee7-8a60-7da5a36004ff",
   "metadata": {},
   "source": [
    "### Call on get dates method and duplicate each item in list to match size of dataframe"
   ]
  },
  {
   "cell_type": "code",
   "execution_count": null,
   "id": "4a58a80f-bf12-4be5-a795-0c6a04cdf383",
   "metadata": {},
   "outputs": [],
   "source": [
    "dates_list = []\n",
    "get_boxscore_dates()\n",
    "dates = [item for item in dates_list for i in range(2)]\n",
    "box_df.insert(0, 'Date', dates)"
   ]
  },
  {
   "cell_type": "markdown",
   "id": "2f0076ed-3973-4991-b4bb-95a097920937",
   "metadata": {},
   "source": [
    "## Archiving the Data"
   ]
  },
  {
   "cell_type": "code",
   "execution_count": null,
   "id": "22e09cb7-4e5a-49d2-8f01-ee504589ae50",
   "metadata": {},
   "outputs": [],
   "source": [
    "#archive the data\n",
    "# Save the dataframe to a file or a database of your choice (you can use any format you want)\n",
    "box_df.to_csv(\"Spreadsheets/box_score_all.csv\", index=False)"
   ]
  },
  {
   "cell_type": "markdown",
   "id": "5db07031-6c47-4f82-a15f-11b1d834a511",
   "metadata": {},
   "source": [
    "## Plotting data"
   ]
  },
  {
   "cell_type": "code",
   "execution_count": null,
   "id": "425b57fa-7171-43c9-addc-70814df50ed6",
   "metadata": {},
   "outputs": [],
   "source": [
    "df = pd.read_csv('Spreadsheets/box_score_all.csv')"
   ]
  },
  {
   "cell_type": "code",
   "execution_count": null,
   "id": "ce9ebf3a-041e-4a53-83c7-9ee93ed3abcb",
   "metadata": {},
   "outputs": [],
   "source": []
  },
  {
   "cell_type": "code",
   "execution_count": null,
   "id": "c154f712-05e3-4676-a125-0655b1b90f7c",
   "metadata": {},
   "outputs": [],
   "source": []
  },
  {
   "cell_type": "markdown",
   "id": "a81ecb92-2711-4d47-a43f-b1ad6d37c1e4",
   "metadata": {
    "jp-MarkdownHeadingCollapsed": true,
    "tags": []
   },
   "source": [
    "## Great alternative, but was getting timeout errors"
   ]
  },
  {
   "cell_type": "code",
   "execution_count": null,
   "id": "5c2c3eff-c17d-4832-abec-63c8a450a184",
   "metadata": {},
   "outputs": [],
   "source": [
    "# Import the nba_api and pandas modules\n",
    "import nba_api\n",
    "import pandas as pd\n",
    "from nba_api.stats.endpoints import leaguegamefinder, boxscoretraditionalv2\n",
    "\n",
    "# Define the season\n",
    "season = \"2022-23\"\n",
    "\n",
    "# Get all the regular season games for the season\n",
    "games = leaguegamefinder.LeagueGameFinder(season_nullable=season, season_type_nullable=\"Regular Season\").get_data_frames()[0]\n",
    "\n",
    "# Create an empty dataframe to store the box score data\n",
    "box_score_df = pd.DataFrame()\n",
    "\n",
    "# Loop through the games and get the box score for each game\n",
    "for game in games.itertuples():\n",
    "    # Get the game id\n",
    "    game_id = game.GAME_ID\n",
    "    # Get the box score\n",
    "    box_score = boxscoretraditionalv2.BoxScoreTraditionalV2(game_id=game_id).get_data_frames()[0]\n",
    "    # Append the box score data to the dataframe\n",
    "    box_score_df = pd.concat([box_score_df, box_score], ignore_index=True)\n",
    "    print(game_id)"
   ]
  }
 ],
 "metadata": {
  "kernelspec": {
   "display_name": "Python 3 (ipykernel)",
   "language": "python",
   "name": "python3"
  },
  "language_info": {
   "codemirror_mode": {
    "name": "ipython",
    "version": 3
   },
   "file_extension": ".py",
   "mimetype": "text/x-python",
   "name": "python",
   "nbconvert_exporter": "python",
   "pygments_lexer": "ipython3",
   "version": "3.10.8"
  }
 },
 "nbformat": 4,
 "nbformat_minor": 5
}
